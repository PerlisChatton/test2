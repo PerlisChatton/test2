{
 "cells": [
  {
   "cell_type": "markdown",
   "metadata": {},
   "source": [
    "# Visualising the data"
   ]
  },
  {
   "cell_type": "markdown",
   "metadata": {},
   "source": [
    "In this notebook, we will guide you through visualising the data you downloaded through the API in the form of graphs. In the process we introduce ```pandas```, a very popular data processing library. Entire books have been written on the  ```pandas``` library, and there is an extensive online [documentation](https://pandas.pydata.org/docs/); in this notebook, we will restrict ourselves to the minimum required to use the library as a wrapper for ```matplotlib```, a lower-level data visualisation library.\n",
    "\n",
    "Both ```pandas``` and ```matplotlib``` are installed on the EECS JupyterHub server, and they are likely to be part of any major Python distribution, so the following ```import``` statements should just work. Installation instructions for [pandas](https://pandas.pydata.org/docs/getting_started/install.html) and [matplotlib](https://matplotlib.org/users/installing.html) are available online."
   ]
  },
  {
   "cell_type": "code",
   "execution_count": 2,
   "metadata": {},
   "outputs": [],
   "source": [
    "import pandas as pd\n",
    "import matplotlib.pyplot as plt\n",
    "import json"
   ]
  },
  {
   "cell_type": "code",
   "execution_count": 3,
   "metadata": {},
   "outputs": [],
   "source": [
    "# an iPython  \"magic\" that enables the embedding of matplotlib output\n",
    "%matplotlib inline\n",
    "# make figures larger\n",
    "plt.rcParams['figure.dpi'] = 100"
   ]
  },
  {
   "cell_type": "markdown",
   "metadata": {},
   "source": [
    "## Time series data"
   ]
  },
  {
   "cell_type": "markdown",
   "metadata": {},
   "source": [
    "We start by loading the data from the JSON file in which we saved it. Reading a JSON file in Python is not any more difficult than writing it:"
   ]
  },
  {
   "cell_type": "code",
   "execution_count": 4,
   "metadata": {},
   "outputs": [],
   "source": [
    "with open(\"timeseries.json\", \"rt\") as INFILE:\n",
    "    data=json.load(INFILE)"
   ]
  },
  {
   "cell_type": "code",
   "execution_count": 5,
   "metadata": {},
   "outputs": [],
   "source": [
    "#data"
   ]
  },
  {
   "cell_type": "code",
   "execution_count": 6,
   "metadata": {},
   "outputs": [],
   "source": [
    "with open(\"Vaccines.json\", \"rt\") as INFILE:\n",
    "    datav=json.load(INFILE)"
   ]
  },
  {
   "cell_type": "markdown",
   "metadata": {},
   "source": [
    "### Wrangling the data\n",
    "\n",
    "Whatever your query, the data is unlikely to come in a form that's amenable to be plotted directly; some wrangling, munging, or other bit of cool data science jargon is required. Our aim is to extract values for the *x* axis of our plot (in this case the dates). These will become the *index* of a ```DataFrame```, of which the *columns* will contain the data proper. You can, for the moment, think of a ```DataFrame``` as the Python equivalent of an Excel spreadsheet.\n",
    "\n",
    "As we can see, the data consists of a dictionary; actual data is stored as a list of dictionaries under the ```data``` key. Let us start by retrieving that:"
   ]
  },
  {
   "cell_type": "code",
   "execution_count": 7,
   "metadata": {},
   "outputs": [],
   "source": [
    "datalist=data['data']\n",
    "#datalist"
   ]
  },
  {
   "cell_type": "code",
   "execution_count": 8,
   "metadata": {},
   "outputs": [],
   "source": [
    "datalistv=datav['data']\n",
    "#datalistv"
   ]
  },
  {
   "cell_type": "markdown",
   "metadata": {},
   "source": [
    "We then want to extract all the dates and sort them. Luckily, with dates written year-first, alphabetical ordering does the trick."
   ]
  },
  {
   "cell_type": "code",
   "execution_count": 9,
   "metadata": {},
   "outputs": [],
   "source": [
    "dates=[dictionary['date'] for dictionary in datalist ]\n",
    "dates.sort()\n",
    "#dates"
   ]
  },
  {
   "cell_type": "code",
   "execution_count": 10,
   "metadata": {},
   "outputs": [],
   "source": [
    "datesv=[dictionary['date'] for dictionary in datalistv ]\n",
    "datesv.sort()\n",
    "#dates"
   ]
  },
  {
   "cell_type": "markdown",
   "metadata": {},
   "source": [
    "Do not assume this is a proper time series: on occasion, I found some dates to be duplicated - a quick check showed they contained the same values. Also, some dates may be missing. At any rate, we find the earliest and latest date and convert them to the ```pandas``` type for representing dates."
   ]
  },
  {
   "cell_type": "code",
   "execution_count": 11,
   "metadata": {},
   "outputs": [],
   "source": [
    "def parse_date(datestring):\n",
    "    \"\"\" Convert a date string into a pandas datetime object \"\"\"\n",
    "    return pd.to_datetime(datestring, format=\"%Y-%m-%d\")"
   ]
  },
  {
   "cell_type": "code",
   "execution_count": 12,
   "metadata": {},
   "outputs": [
    {
     "name": "stdout",
     "output_type": "stream",
     "text": [
      "2020-01-03 00:00:00  to  2020-10-18 00:00:00\n"
     ]
    }
   ],
   "source": [
    "startdate=parse_date(dates[0])\n",
    "enddate=parse_date(dates[-1])\n",
    "print (startdate, ' to ', enddate)"
   ]
  },
  {
   "cell_type": "code",
   "execution_count": 13,
   "metadata": {},
   "outputs": [
    {
     "name": "stdout",
     "output_type": "stream",
     "text": [
      "2020-01-03 00:00:00  to  2020-10-18 00:00:00\n"
     ]
    }
   ],
   "source": [
    "startdatev=parse_date(datesv[0])\n",
    "enddatev=parse_date(datesv[-1])\n",
    "print (startdate, ' to ', enddate)"
   ]
  },
  {
   "cell_type": "markdown",
   "metadata": {},
   "source": [
    "We are now ready to define our ```DataFrame```. To start with, we create an index as a ```date_range```: this is the date analog of a ```range``` for integers, and it will include any dates that may be missing from our list.\n",
    "We then proceed to define the ```DateFrame``` by specifying its index and the title of its columns."
   ]
  },
  {
   "cell_type": "code",
   "execution_count": 14,
   "metadata": {},
   "outputs": [],
   "source": [
    "index=pd.date_range(startdate, enddate, freq='D')\n",
    "timeseriesdf=pd.DataFrame(index=index, columns=['cases', 'hospital', 'deaths'])\n",
    "#timeseriesdf"
   ]
  },
  {
   "cell_type": "code",
   "execution_count": 15,
   "metadata": {},
   "outputs": [],
   "source": [
    "index=pd.date_range(startdate, enddate, freq='D')\n",
    "#index"
   ]
  },
  {
   "cell_type": "markdown",
   "metadata": {},
   "source": [
    "As you can see, the ```DataFrame``` resembles a spreadsheet, or if you want a matrix with labels. We now proceed to fill it in with values from our three statistics. Note that there are many ways of filling in a ```DataFrame```: this is probably not the most efficient, but it is in my view the easiest to understand and one of those that give you more control over the values you enter."
   ]
  },
  {
   "cell_type": "code",
   "execution_count": 16,
   "metadata": {},
   "outputs": [
    {
     "data": {
      "text/html": [
       "<div>\n",
       "<style scoped>\n",
       "    .dataframe tbody tr th:only-of-type {\n",
       "        vertical-align: middle;\n",
       "    }\n",
       "\n",
       "    .dataframe tbody tr th {\n",
       "        vertical-align: top;\n",
       "    }\n",
       "\n",
       "    .dataframe thead th {\n",
       "        text-align: right;\n",
       "    }\n",
       "</style>\n",
       "<table border=\"1\" class=\"dataframe\">\n",
       "  <thead>\n",
       "    <tr style=\"text-align: right;\">\n",
       "      <th></th>\n",
       "      <th>cases</th>\n",
       "      <th>hospital</th>\n",
       "      <th>deaths</th>\n",
       "    </tr>\n",
       "  </thead>\n",
       "  <tbody>\n",
       "    <tr>\n",
       "      <th>2020-01-03</th>\n",
       "      <td>0.0</td>\n",
       "      <td>0.0</td>\n",
       "      <td>0.0</td>\n",
       "    </tr>\n",
       "    <tr>\n",
       "      <th>2020-01-04</th>\n",
       "      <td>0.0</td>\n",
       "      <td>0.0</td>\n",
       "      <td>0.0</td>\n",
       "    </tr>\n",
       "    <tr>\n",
       "      <th>2020-01-05</th>\n",
       "      <td>0.0</td>\n",
       "      <td>0.0</td>\n",
       "      <td>0.0</td>\n",
       "    </tr>\n",
       "    <tr>\n",
       "      <th>2020-01-06</th>\n",
       "      <td>0.0</td>\n",
       "      <td>0.0</td>\n",
       "      <td>0.0</td>\n",
       "    </tr>\n",
       "    <tr>\n",
       "      <th>2020-01-07</th>\n",
       "      <td>0.0</td>\n",
       "      <td>0.0</td>\n",
       "      <td>0.0</td>\n",
       "    </tr>\n",
       "    <tr>\n",
       "      <th>...</th>\n",
       "      <td>...</td>\n",
       "      <td>...</td>\n",
       "      <td>...</td>\n",
       "    </tr>\n",
       "    <tr>\n",
       "      <th>2020-10-14</th>\n",
       "      <td>19724.0</td>\n",
       "      <td>924.0</td>\n",
       "      <td>65.1</td>\n",
       "    </tr>\n",
       "    <tr>\n",
       "      <th>2020-10-15</th>\n",
       "      <td>18980.0</td>\n",
       "      <td>0.0</td>\n",
       "      <td>65.2</td>\n",
       "    </tr>\n",
       "    <tr>\n",
       "      <th>2020-10-16</th>\n",
       "      <td>15650.0</td>\n",
       "      <td>0.0</td>\n",
       "      <td>0.0</td>\n",
       "    </tr>\n",
       "    <tr>\n",
       "      <th>2020-10-17</th>\n",
       "      <td>16171.0</td>\n",
       "      <td>0.0</td>\n",
       "      <td>0.0</td>\n",
       "    </tr>\n",
       "    <tr>\n",
       "      <th>2020-10-18</th>\n",
       "      <td>16982.0</td>\n",
       "      <td>0.0</td>\n",
       "      <td>0.0</td>\n",
       "    </tr>\n",
       "  </tbody>\n",
       "</table>\n",
       "<p>290 rows × 3 columns</p>\n",
       "</div>"
      ],
      "text/plain": [
       "              cases  hospital  deaths\n",
       "2020-01-03      0.0       0.0     0.0\n",
       "2020-01-04      0.0       0.0     0.0\n",
       "2020-01-05      0.0       0.0     0.0\n",
       "2020-01-06      0.0       0.0     0.0\n",
       "2020-01-07      0.0       0.0     0.0\n",
       "...             ...       ...     ...\n",
       "2020-10-14  19724.0     924.0    65.1\n",
       "2020-10-15  18980.0       0.0    65.2\n",
       "2020-10-16  15650.0       0.0     0.0\n",
       "2020-10-17  16171.0       0.0     0.0\n",
       "2020-10-18  16982.0       0.0     0.0\n",
       "\n",
       "[290 rows x 3 columns]"
      ]
     },
     "execution_count": 16,
     "metadata": {},
     "output_type": "execute_result"
    }
   ],
   "source": [
    "for entry in datalist: # each entry is a dictionary with date, cases, hospital and deaths\n",
    "    date=parse_date(entry['date'])\n",
    "    for column in ['cases', 'hospital', 'deaths']:\n",
    "        # check that nothing is there yet - just in case some dates are duplicated,\n",
    "        # maybe with data for different columns in each entry\n",
    "        if pd.isna(timeseriesdf.loc[date, column]): \n",
    "            # replace None with 0 in our data \n",
    "            value= float(entry[column]) if entry[column]!=None else 0.0\n",
    "            # this is the way you access a specific location in the dataframe - use .loc\n",
    "            # and put index,column in a single set of [ ]\n",
    "            timeseriesdf.loc[date, column]=value\n",
    "            \n",
    "# fill in any remaining \"holes\" due to missing dates\n",
    "timeseriesdf.fillna(0.0, inplace=True)\n",
    "            \n",
    "timeseriesdf"
   ]
  },
  {
   "cell_type": "code",
   "execution_count": 17,
   "metadata": {},
   "outputs": [
    {
     "data": {
      "text/html": [
       "<div>\n",
       "<style scoped>\n",
       "    .dataframe tbody tr th:only-of-type {\n",
       "        vertical-align: middle;\n",
       "    }\n",
       "\n",
       "    .dataframe tbody tr th {\n",
       "        vertical-align: top;\n",
       "    }\n",
       "\n",
       "    .dataframe thead th {\n",
       "        text-align: right;\n",
       "    }\n",
       "</style>\n",
       "<table border=\"1\" class=\"dataframe\">\n",
       "  <thead>\n",
       "    <tr style=\"text-align: right;\">\n",
       "      <th></th>\n",
       "      <th>DDeaths</th>\n",
       "      <th>Dhosp</th>\n",
       "      <th>2VA</th>\n",
       "    </tr>\n",
       "  </thead>\n",
       "  <tbody>\n",
       "    <tr>\n",
       "      <th>2020-03-12</th>\n",
       "      <td>NaN</td>\n",
       "      <td>NaN</td>\n",
       "      <td>NaN</td>\n",
       "    </tr>\n",
       "    <tr>\n",
       "      <th>2020-03-13</th>\n",
       "      <td>NaN</td>\n",
       "      <td>NaN</td>\n",
       "      <td>NaN</td>\n",
       "    </tr>\n",
       "    <tr>\n",
       "      <th>2020-03-14</th>\n",
       "      <td>NaN</td>\n",
       "      <td>NaN</td>\n",
       "      <td>NaN</td>\n",
       "    </tr>\n",
       "    <tr>\n",
       "      <th>2020-03-15</th>\n",
       "      <td>NaN</td>\n",
       "      <td>NaN</td>\n",
       "      <td>NaN</td>\n",
       "    </tr>\n",
       "    <tr>\n",
       "      <th>2020-03-16</th>\n",
       "      <td>NaN</td>\n",
       "      <td>NaN</td>\n",
       "      <td>NaN</td>\n",
       "    </tr>\n",
       "    <tr>\n",
       "      <th>...</th>\n",
       "      <td>...</td>\n",
       "      <td>...</td>\n",
       "      <td>...</td>\n",
       "    </tr>\n",
       "    <tr>\n",
       "      <th>2021-10-21</th>\n",
       "      <td>NaN</td>\n",
       "      <td>NaN</td>\n",
       "      <td>NaN</td>\n",
       "    </tr>\n",
       "    <tr>\n",
       "      <th>2021-10-22</th>\n",
       "      <td>NaN</td>\n",
       "      <td>NaN</td>\n",
       "      <td>NaN</td>\n",
       "    </tr>\n",
       "    <tr>\n",
       "      <th>2021-10-23</th>\n",
       "      <td>NaN</td>\n",
       "      <td>NaN</td>\n",
       "      <td>NaN</td>\n",
       "    </tr>\n",
       "    <tr>\n",
       "      <th>2021-10-24</th>\n",
       "      <td>NaN</td>\n",
       "      <td>NaN</td>\n",
       "      <td>NaN</td>\n",
       "    </tr>\n",
       "    <tr>\n",
       "      <th>2021-10-25</th>\n",
       "      <td>NaN</td>\n",
       "      <td>NaN</td>\n",
       "      <td>NaN</td>\n",
       "    </tr>\n",
       "  </tbody>\n",
       "</table>\n",
       "<p>593 rows × 3 columns</p>\n",
       "</div>"
      ],
      "text/plain": [
       "           DDeaths Dhosp  2VA\n",
       "2020-03-12     NaN   NaN  NaN\n",
       "2020-03-13     NaN   NaN  NaN\n",
       "2020-03-14     NaN   NaN  NaN\n",
       "2020-03-15     NaN   NaN  NaN\n",
       "2020-03-16     NaN   NaN  NaN\n",
       "...            ...   ...  ...\n",
       "2021-10-21     NaN   NaN  NaN\n",
       "2021-10-22     NaN   NaN  NaN\n",
       "2021-10-23     NaN   NaN  NaN\n",
       "2021-10-24     NaN   NaN  NaN\n",
       "2021-10-25     NaN   NaN  NaN\n",
       "\n",
       "[593 rows x 3 columns]"
      ]
     },
     "execution_count": 17,
     "metadata": {},
     "output_type": "execute_result"
    }
   ],
   "source": [
    "indexv=pd.date_range(startdatev, enddatev, freq='D')\n",
    "timeseriesdfv=pd.DataFrame(index=indexv, columns=['DDeaths', 'Dhosp', '2VA'])\n",
    "timeseriesdfv"
   ]
  },
  {
   "cell_type": "code",
   "execution_count": 18,
   "metadata": {},
   "outputs": [
    {
     "data": {
      "text/html": [
       "<div>\n",
       "<style scoped>\n",
       "    .dataframe tbody tr th:only-of-type {\n",
       "        vertical-align: middle;\n",
       "    }\n",
       "\n",
       "    .dataframe tbody tr th {\n",
       "        vertical-align: top;\n",
       "    }\n",
       "\n",
       "    .dataframe thead th {\n",
       "        text-align: right;\n",
       "    }\n",
       "</style>\n",
       "<table border=\"1\" class=\"dataframe\">\n",
       "  <thead>\n",
       "    <tr style=\"text-align: right;\">\n",
       "      <th></th>\n",
       "      <th>DDeaths</th>\n",
       "      <th>Dhosp</th>\n",
       "      <th>2VA</th>\n",
       "    </tr>\n",
       "  </thead>\n",
       "  <tbody>\n",
       "    <tr>\n",
       "      <th>2020-03-12</th>\n",
       "      <td>0.1</td>\n",
       "      <td>0.0</td>\n",
       "      <td>0.0</td>\n",
       "    </tr>\n",
       "    <tr>\n",
       "      <th>2020-03-13</th>\n",
       "      <td>0.1</td>\n",
       "      <td>0.0</td>\n",
       "      <td>0.0</td>\n",
       "    </tr>\n",
       "    <tr>\n",
       "      <th>2020-03-14</th>\n",
       "      <td>0.1</td>\n",
       "      <td>0.0</td>\n",
       "      <td>0.0</td>\n",
       "    </tr>\n",
       "    <tr>\n",
       "      <th>2020-03-15</th>\n",
       "      <td>0.2</td>\n",
       "      <td>0.0</td>\n",
       "      <td>0.0</td>\n",
       "    </tr>\n",
       "    <tr>\n",
       "      <th>2020-03-16</th>\n",
       "      <td>0.2</td>\n",
       "      <td>0.0</td>\n",
       "      <td>0.0</td>\n",
       "    </tr>\n",
       "    <tr>\n",
       "      <th>...</th>\n",
       "      <td>...</td>\n",
       "      <td>...</td>\n",
       "      <td>...</td>\n",
       "    </tr>\n",
       "    <tr>\n",
       "      <th>2021-10-21</th>\n",
       "      <td>208.0</td>\n",
       "      <td>959.0</td>\n",
       "      <td>45486950.0</td>\n",
       "    </tr>\n",
       "    <tr>\n",
       "      <th>2021-10-22</th>\n",
       "      <td>208.2</td>\n",
       "      <td>916.0</td>\n",
       "      <td>45513120.0</td>\n",
       "    </tr>\n",
       "    <tr>\n",
       "      <th>2021-10-23</th>\n",
       "      <td>208.3</td>\n",
       "      <td>0.0</td>\n",
       "      <td>45543363.0</td>\n",
       "    </tr>\n",
       "    <tr>\n",
       "      <th>2021-10-24</th>\n",
       "      <td>208.4</td>\n",
       "      <td>0.0</td>\n",
       "      <td>45561445.0</td>\n",
       "    </tr>\n",
       "    <tr>\n",
       "      <th>2021-10-25</th>\n",
       "      <td>208.5</td>\n",
       "      <td>0.0</td>\n",
       "      <td>45582891.0</td>\n",
       "    </tr>\n",
       "  </tbody>\n",
       "</table>\n",
       "<p>593 rows × 3 columns</p>\n",
       "</div>"
      ],
      "text/plain": [
       "            DDeaths  Dhosp         2VA\n",
       "2020-03-12      0.1    0.0         0.0\n",
       "2020-03-13      0.1    0.0         0.0\n",
       "2020-03-14      0.1    0.0         0.0\n",
       "2020-03-15      0.2    0.0         0.0\n",
       "2020-03-16      0.2    0.0         0.0\n",
       "...             ...    ...         ...\n",
       "2021-10-21    208.0  959.0  45486950.0\n",
       "2021-10-22    208.2  916.0  45513120.0\n",
       "2021-10-23    208.3    0.0  45543363.0\n",
       "2021-10-24    208.4    0.0  45561445.0\n",
       "2021-10-25    208.5    0.0  45582891.0\n",
       "\n",
       "[593 rows x 3 columns]"
      ]
     },
     "execution_count": 18,
     "metadata": {},
     "output_type": "execute_result"
    }
   ],
   "source": [
    "for entry in datalistv: # each entry is a dictionary with date, cases, hospital and deaths\n",
    "    datev=parse_date(entry['date'])\n",
    "    for column in ['DDeaths', 'Dhosp', '2VA']:\n",
    "        # check that nothing is there yet - just in case some dates are duplicated,\n",
    "        # maybe with data for different columns in each entry\n",
    "        if pd.isna(timeseriesdfv.loc[datev, column]): \n",
    "            # replace None with 0 in our data \n",
    "            value= float(entry[column]) if entry[column]!=None else 0.0\n",
    "            # this is the way you access a specific location in the dataframe - use .loc\n",
    "            # and put index,column in a single set of [ ]\n",
    "            timeseriesdfv.loc[datev, column]=value\n",
    "            \n",
    "# fill in any remaining \"holes\" due to missing dates\n",
    "timeseriesdfv.fillna(0.0, inplace=True)\n",
    "            \n",
    "timeseriesdfv"
   ]
  },
  {
   "cell_type": "markdown",
   "metadata": {},
   "source": [
    "### Plotting"
   ]
  },
  {
   "cell_type": "markdown",
   "metadata": {},
   "source": [
    "Creatimg a basic plot of our data is now dead easy. We just need to call the ```plot()``` method on our ```DataFrame```; this will call the underlying ```matplot.pyplot``` functions to create a plot of the data. For more options and fancier graphs, see the [documentation](https://pandas.pydata.org/pandas-docs/stable/user_guide/visualization.html)."
   ]
  },
  {
   "cell_type": "code",
   "execution_count": 19,
   "metadata": {},
   "outputs": [
    {
     "data": {
      "text/plain": [
       "<AxesSubplot:>"
      ]
     },
     "execution_count": 19,
     "metadata": {},
     "output_type": "execute_result"
    },
    {
     "data": {
      "image/png": "[encoded data removed]",
      "text/plain": [
       "<Figure size 600x400 with 1 Axes>"
      ]
     },
     "metadata": {
      "needs_background": "light"
     },
     "output_type": "display_data"
    }
   ],
   "source": [
    "timeseriesdf.plot() # easy peasy..."
   ]
  },
  {
   "cell_type": "markdown",
   "metadata": {},
   "source": [
    "After lording it for centuries over engineering calculations up to the advent of computers, logarithms had never been so popular as they have become since the rise of Covid dashboards - now everybody and their uncle knows what a log scale is. There is a reason for that: exponential phenomena are well suited for plotting on log scales, where an exponential propagation becomes a straight line. You wouldn't want to miss out on this centuries-old fad:"
   ]
  },
  {
   "cell_type": "code",
   "execution_count": 20,
   "metadata": {},
   "outputs": [
    {
     "data": {
      "text/plain": [
       "<AxesSubplot:>"
      ]
     },
     "execution_count": 20,
     "metadata": {},
     "output_type": "execute_result"
    },
    {
     "data": {
      "image/png": "[encoded data removed]",
      "text/plain": [
       "<Figure size 600x400 with 1 Axes>"
      ]
     },
     "metadata": {
      "needs_background": "light"
     },
     "output_type": "display_data"
    }
   ],
   "source": [
    "timeseriesdf.plot(logy=True) # ...lemon squeezy"
   ]
  },
  {
   "cell_type": "markdown",
   "metadata": {},
   "source": [
    "## Age distribution data"
   ]
  },
  {
   "cell_type": "markdown",
   "metadata": {},
   "source": [
    "As a second example, let's plot age distribution data. The data scructure, as you can see, is rather different, so this will be another good exercise in data wrangling."
   ]
  },
  {
   "cell_type": "code",
   "execution_count": 21,
   "metadata": {},
   "outputs": [],
   "source": [
    "with open(\"agedistribution.json\", \"rt\") as INFILE:\n",
    "    data=json.load(INFILE)"
   ]
  },
  {
   "cell_type": "code",
   "execution_count": 22,
   "metadata": {},
   "outputs": [
    {
     "data": {
      "text/plain": [
       "{'data': [{'males': [{'age': '25_to_29', 'value': 22224, 'rate': 1239.7},\n",
       "    {'age': '30_to_34', 'value': 21023, 'rate': 1087.5},\n",
       "    {'age': '60_to_64', 'value': 14493, 'rate': 949.0},\n",
       "    {'age': '50_to_54', 'value': 19773, 'rate': 1075.0},\n",
       "    {'age': '40_to_44', 'value': 17060, 'rate': 922.6},\n",
       "    {'age': '55_to_59', 'value': 18366, 'rate': 953.1},\n",
       "    {'age': '65_to_69', 'value': 10712, 'rate': 791.8},\n",
       "    {'age': '5_to_9', 'value': 4167, 'rate': 230.3},\n",
       "    {'age': '80_to_84', 'value': 10933, 'rate': 1720.5},\n",
       "    {'age': '20_to_24', 'value': 28227, 'rate': 1777.8},\n",
       "    {'age': '35_to_39', 'value': 18761, 'rate': 987.1},\n",
       "    {'age': '85_to_89', 'value': 9279, 'rate': 2644.7},\n",
       "    {'age': '10_to_14', 'value': 6741, 'rate': 371.9},\n",
       "    {'age': '90+', 'value': 6570, 'rate': 3952.3},\n",
       "    {'age': '15_to_19', 'value': 24720, 'rate': 1437.7},\n",
       "    {'age': '75_to_79', 'value': 10218, 'rate': 1134.4},\n",
       "    {'age': '0_to_4', 'value': 4342, 'rate': 256.4},\n",
       "    {'age': '45_to_49', 'value': 18266, 'rate': 1074.3},\n",
       "    {'age': '70_to_74', 'value': 10402, 'rate': 782.0}],\n",
       "   'females': [{'age': '20_to_24', 'value': 34283, 'rate': 2281.7},\n",
       "    {'age': '60_to_64', 'value': 14854, 'rate': 937.4},\n",
       "    {'age': '75_to_79', 'value': 8873, 'rate': 853.2},\n",
       "    {'age': '15_to_19', 'value': 31676, 'rate': 1937.6},\n",
       "    {'age': '35_to_39', 'value': 22846, 'rate': 1197.8},\n",
       "    {'age': '45_to_49', 'value': 23724, 'rate': 1384.0},\n",
       "    {'age': '70_to_74', 'value': 8142, 'rate': 561.8},\n",
       "    {'age': '5_to_9', 'value': 3856, 'rate': 207.2},\n",
       "    {'age': '25_to_29', 'value': 28596, 'rate': 1686.9},\n",
       "    {'age': '50_to_54', 'value': 25361, 'rate': 1351.5},\n",
       "    {'age': '30_to_34', 'value': 25853, 'rate': 1383.8},\n",
       "    {'age': '90+', 'value': 14024, 'rate': 3995.0},\n",
       "    {'age': '85_to_89', 'value': 12518, 'rate': 2366.7},\n",
       "    {'age': '65_to_69', 'value': 8752, 'rate': 606.1},\n",
       "    {'age': '10_to_14', 'value': 6323, 'rate': 366.4},\n",
       "    {'age': '40_to_44', 'value': 21923, 'rate': 1163.3},\n",
       "    {'age': '55_to_59', 'value': 22109, 'rate': 1116.3},\n",
       "    {'age': '80_to_84', 'value': 11224, 'rate': 1395.2},\n",
       "    {'age': '0_to_4', 'value': 4152, 'rate': 258.5}]}],\n",
       " 'lastUpdate': '2020-10-18T14:46:14.000000Z',\n",
       " 'length': 1,\n",
       " 'totalPages': 1}"
      ]
     },
     "execution_count": 22,
     "metadata": {},
     "output_type": "execute_result"
    }
   ],
   "source": [
    "data"
   ]
  },
  {
   "cell_type": "markdown",
   "metadata": {},
   "source": [
    "### Data munging\n",
    "\n"
   ]
  },
  {
   "cell_type": "markdown",
   "metadata": {},
   "source": [
    "Once again, there are no fixed rules for this - just see in what format your data comes, have clear in your mind what you are aiming for, and wrangle your data accordingly. In this case, we want to get to a ```DataFrame``` with the age bins as an *index*, and values for males and females as its *columns*.\n",
    "\n",
    "In this case, the ```'data'``` corresponds to a list, of which the first and only element is a dictionary. Let's try to get hold of that dictionary:"
   ]
  },
  {
   "cell_type": "code",
   "execution_count": 23,
   "metadata": {},
   "outputs": [
    {
     "data": {
      "text/plain": [
       "{'males': [{'age': '25_to_29', 'value': 22224, 'rate': 1239.7},\n",
       "  {'age': '30_to_34', 'value': 21023, 'rate': 1087.5},\n",
       "  {'age': '60_to_64', 'value': 14493, 'rate': 949.0},\n",
       "  {'age': '50_to_54', 'value': 19773, 'rate': 1075.0},\n",
       "  {'age': '40_to_44', 'value': 17060, 'rate': 922.6},\n",
       "  {'age': '55_to_59', 'value': 18366, 'rate': 953.1},\n",
       "  {'age': '65_to_69', 'value': 10712, 'rate': 791.8},\n",
       "  {'age': '5_to_9', 'value': 4167, 'rate': 230.3},\n",
       "  {'age': '80_to_84', 'value': 10933, 'rate': 1720.5},\n",
       "  {'age': '20_to_24', 'value': 28227, 'rate': 1777.8},\n",
       "  {'age': '35_to_39', 'value': 18761, 'rate': 987.1},\n",
       "  {'age': '85_to_89', 'value': 9279, 'rate': 2644.7},\n",
       "  {'age': '10_to_14', 'value': 6741, 'rate': 371.9},\n",
       "  {'age': '90+', 'value': 6570, 'rate': 3952.3},\n",
       "  {'age': '15_to_19', 'value': 24720, 'rate': 1437.7},\n",
       "  {'age': '75_to_79', 'value': 10218, 'rate': 1134.4},\n",
       "  {'age': '0_to_4', 'value': 4342, 'rate': 256.4},\n",
       "  {'age': '45_to_49', 'value': 18266, 'rate': 1074.3},\n",
       "  {'age': '70_to_74', 'value': 10402, 'rate': 782.0}],\n",
       " 'females': [{'age': '20_to_24', 'value': 34283, 'rate': 2281.7},\n",
       "  {'age': '60_to_64', 'value': 14854, 'rate': 937.4},\n",
       "  {'age': '75_to_79', 'value': 8873, 'rate': 853.2},\n",
       "  {'age': '15_to_19', 'value': 31676, 'rate': 1937.6},\n",
       "  {'age': '35_to_39', 'value': 22846, 'rate': 1197.8},\n",
       "  {'age': '45_to_49', 'value': 23724, 'rate': 1384.0},\n",
       "  {'age': '70_to_74', 'value': 8142, 'rate': 561.8},\n",
       "  {'age': '5_to_9', 'value': 3856, 'rate': 207.2},\n",
       "  {'age': '25_to_29', 'value': 28596, 'rate': 1686.9},\n",
       "  {'age': '50_to_54', 'value': 25361, 'rate': 1351.5},\n",
       "  {'age': '30_to_34', 'value': 25853, 'rate': 1383.8},\n",
       "  {'age': '90+', 'value': 14024, 'rate': 3995.0},\n",
       "  {'age': '85_to_89', 'value': 12518, 'rate': 2366.7},\n",
       "  {'age': '65_to_69', 'value': 8752, 'rate': 606.1},\n",
       "  {'age': '10_to_14', 'value': 6323, 'rate': 366.4},\n",
       "  {'age': '40_to_44', 'value': 21923, 'rate': 1163.3},\n",
       "  {'age': '55_to_59', 'value': 22109, 'rate': 1116.3},\n",
       "  {'age': '80_to_84', 'value': 11224, 'rate': 1395.2},\n",
       "  {'age': '0_to_4', 'value': 4152, 'rate': 258.5}]}"
      ]
     },
     "execution_count": 23,
     "metadata": {},
     "output_type": "execute_result"
    }
   ],
   "source": [
    "datadic=data['data'][0] # data['data'] is a list\n",
    "datadic"
   ]
  },
  {
   "cell_type": "markdown",
   "metadata": {},
   "source": [
    "This already looks better. We can now grab the lists of entries for males and females separately:"
   ]
  },
  {
   "cell_type": "code",
   "execution_count": 24,
   "metadata": {},
   "outputs": [
    {
     "data": {
      "text/plain": [
       "[{'age': '25_to_29', 'value': 22224, 'rate': 1239.7},\n",
       " {'age': '30_to_34', 'value': 21023, 'rate': 1087.5},\n",
       " {'age': '60_to_64', 'value': 14493, 'rate': 949.0},\n",
       " {'age': '50_to_54', 'value': 19773, 'rate': 1075.0},\n",
       " {'age': '40_to_44', 'value': 17060, 'rate': 922.6},\n",
       " {'age': '55_to_59', 'value': 18366, 'rate': 953.1},\n",
       " {'age': '65_to_69', 'value': 10712, 'rate': 791.8},\n",
       " {'age': '5_to_9', 'value': 4167, 'rate': 230.3},\n",
       " {'age': '80_to_84', 'value': 10933, 'rate': 1720.5},\n",
       " {'age': '20_to_24', 'value': 28227, 'rate': 1777.8},\n",
       " {'age': '35_to_39', 'value': 18761, 'rate': 987.1},\n",
       " {'age': '85_to_89', 'value': 9279, 'rate': 2644.7},\n",
       " {'age': '10_to_14', 'value': 6741, 'rate': 371.9},\n",
       " {'age': '90+', 'value': 6570, 'rate': 3952.3},\n",
       " {'age': '15_to_19', 'value': 24720, 'rate': 1437.7},\n",
       " {'age': '75_to_79', 'value': 10218, 'rate': 1134.4},\n",
       " {'age': '0_to_4', 'value': 4342, 'rate': 256.4},\n",
       " {'age': '45_to_49', 'value': 18266, 'rate': 1074.3},\n",
       " {'age': '70_to_74', 'value': 10402, 'rate': 782.0}]"
      ]
     },
     "execution_count": 24,
     "metadata": {},
     "output_type": "execute_result"
    }
   ],
   "source": [
    "males=datadic['males']\n",
    "females=datadic['females']\n",
    "males # females is similar "
   ]
  },
  {
   "cell_type": "markdown",
   "metadata": {},
   "source": [
    "Age bands are the same in both cases, so we can just extract them from one list:"
   ]
  },
  {
   "cell_type": "code",
   "execution_count": 25,
   "metadata": {},
   "outputs": [
    {
     "name": "stdout",
     "output_type": "stream",
     "text": [
      "['25_to_29', '30_to_34', '60_to_64', '50_to_54', '40_to_44', '55_to_59', '65_to_69', '5_to_9', '80_to_84', '20_to_24', '35_to_39', '85_to_89', '10_to_14', '90+', '15_to_19', '75_to_79', '0_to_4', '45_to_49', '70_to_74']\n"
     ]
    }
   ],
   "source": [
    "ageranges=[x['age'] for x in males] # each entry of males is a dictionary\n",
    "print(ageranges)"
   ]
  },
  {
   "cell_type": "markdown",
   "metadata": {},
   "source": [
    "This is great, but we would like our dataframe *index* to be nicely sorted. The lower limit of the age bands looks like a suitable candidate for a sort key, let's try to extract it..."
   ]
  },
  {
   "cell_type": "code",
   "execution_count": 26,
   "metadata": {},
   "outputs": [
    {
     "name": "stdout",
     "output_type": "stream",
     "text": [
      "85\n",
      "90\n"
     ]
    }
   ],
   "source": [
    "def min_age(agerange):\n",
    "    agerange=agerange.replace('+','') # remove the + from 90+\n",
    "    start=agerange.split('_')[0]\n",
    "    return int(start)\n",
    "\n",
    "print(min_age('85_to_89'))\n",
    "print(min_age('90+')) # looking good..."
   ]
  },
  {
   "cell_type": "markdown",
   "metadata": {},
   "source": [
    "We can now use the ```min_age``` function as a *key* for the ```sort()``` function (see the [Sorting HOWTO](https://docs.python.org/3/howto/sorting.html) for details): "
   ]
  },
  {
   "cell_type": "code",
   "execution_count": 27,
   "metadata": {},
   "outputs": [
    {
     "name": "stdout",
     "output_type": "stream",
     "text": [
      "['0_to_4', '5_to_9', '10_to_14', '15_to_19', '20_to_24', '25_to_29', '30_to_34', '35_to_39', '40_to_44', '45_to_49', '50_to_54', '55_to_59', '60_to_64', '65_to_69', '70_to_74', '75_to_79', '80_to_84', '85_to_89', '90+']\n"
     ]
    }
   ],
   "source": [
    "ageranges.sort(key=min_age)\n",
    "print (ageranges)"
   ]
  },
  {
   "cell_type": "markdown",
   "metadata": {},
   "source": [
    "We are finally ready to define our ```DataFrame```. We use ```ageranges``` as an *index*, and include *columns* for males and females. We also add a *total* column that we will compute from the other two:"
   ]
  },
  {
   "cell_type": "code",
   "execution_count": 28,
   "metadata": {},
   "outputs": [],
   "source": [
    "age_df=pd.DataFrame(index=ageranges, columns=['males','females', 'total'])"
   ]
  },
  {
   "cell_type": "markdown",
   "metadata": {},
   "source": [
    "Filling in ```age_df``` is only a matter of looping separately over the values for males and females and assigning each value to the corresponding age band and column. Finally, we compute the *total* column as the sum of the *males* and *females* columns (another handy ```DataFrame``` feature)."
   ]
  },
  {
   "cell_type": "code",
   "execution_count": 29,
   "metadata": {},
   "outputs": [],
   "source": [
    "for entry in males: # each entry is a dictionary\n",
    "    ageband=entry['age'] # our index position\n",
    "    age_df.loc[ageband, 'males']=entry['value']\n",
    "    \n",
    "for entry in females:\n",
    "    ageband=entry['age']\n",
    "    age_df.loc[ageband, 'females']=entry['value']\n",
    "    \n",
    "# this is straightforward\n",
    "age_df['total']=age_df['males']+age_df['females']"
   ]
  },
  {
   "cell_type": "code",
   "execution_count": 30,
   "metadata": {
    "scrolled": true
   },
   "outputs": [
    {
     "data": {
      "text/html": [
       "<div>\n",
       "<style scoped>\n",
       "    .dataframe tbody tr th:only-of-type {\n",
       "        vertical-align: middle;\n",
       "    }\n",
       "\n",
       "    .dataframe tbody tr th {\n",
       "        vertical-align: top;\n",
       "    }\n",
       "\n",
       "    .dataframe thead th {\n",
       "        text-align: right;\n",
       "    }\n",
       "</style>\n",
       "<table border=\"1\" class=\"dataframe\">\n",
       "  <thead>\n",
       "    <tr style=\"text-align: right;\">\n",
       "      <th></th>\n",
       "      <th>males</th>\n",
       "      <th>females</th>\n",
       "      <th>total</th>\n",
       "    </tr>\n",
       "  </thead>\n",
       "  <tbody>\n",
       "    <tr>\n",
       "      <th>0_to_4</th>\n",
       "      <td>4342</td>\n",
       "      <td>4152</td>\n",
       "      <td>8494</td>\n",
       "    </tr>\n",
       "    <tr>\n",
       "      <th>5_to_9</th>\n",
       "      <td>4167</td>\n",
       "      <td>3856</td>\n",
       "      <td>8023</td>\n",
       "    </tr>\n",
       "    <tr>\n",
       "      <th>10_to_14</th>\n",
       "      <td>6741</td>\n",
       "      <td>6323</td>\n",
       "      <td>13064</td>\n",
       "    </tr>\n",
       "    <tr>\n",
       "      <th>15_to_19</th>\n",
       "      <td>24720</td>\n",
       "      <td>31676</td>\n",
       "      <td>56396</td>\n",
       "    </tr>\n",
       "    <tr>\n",
       "      <th>20_to_24</th>\n",
       "      <td>28227</td>\n",
       "      <td>34283</td>\n",
       "      <td>62510</td>\n",
       "    </tr>\n",
       "    <tr>\n",
       "      <th>25_to_29</th>\n",
       "      <td>22224</td>\n",
       "      <td>28596</td>\n",
       "      <td>50820</td>\n",
       "    </tr>\n",
       "    <tr>\n",
       "      <th>30_to_34</th>\n",
       "      <td>21023</td>\n",
       "      <td>25853</td>\n",
       "      <td>46876</td>\n",
       "    </tr>\n",
       "    <tr>\n",
       "      <th>35_to_39</th>\n",
       "      <td>18761</td>\n",
       "      <td>22846</td>\n",
       "      <td>41607</td>\n",
       "    </tr>\n",
       "    <tr>\n",
       "      <th>40_to_44</th>\n",
       "      <td>17060</td>\n",
       "      <td>21923</td>\n",
       "      <td>38983</td>\n",
       "    </tr>\n",
       "    <tr>\n",
       "      <th>45_to_49</th>\n",
       "      <td>18266</td>\n",
       "      <td>23724</td>\n",
       "      <td>41990</td>\n",
       "    </tr>\n",
       "    <tr>\n",
       "      <th>50_to_54</th>\n",
       "      <td>19773</td>\n",
       "      <td>25361</td>\n",
       "      <td>45134</td>\n",
       "    </tr>\n",
       "    <tr>\n",
       "      <th>55_to_59</th>\n",
       "      <td>18366</td>\n",
       "      <td>22109</td>\n",
       "      <td>40475</td>\n",
       "    </tr>\n",
       "    <tr>\n",
       "      <th>60_to_64</th>\n",
       "      <td>14493</td>\n",
       "      <td>14854</td>\n",
       "      <td>29347</td>\n",
       "    </tr>\n",
       "    <tr>\n",
       "      <th>65_to_69</th>\n",
       "      <td>10712</td>\n",
       "      <td>8752</td>\n",
       "      <td>19464</td>\n",
       "    </tr>\n",
       "    <tr>\n",
       "      <th>70_to_74</th>\n",
       "      <td>10402</td>\n",
       "      <td>8142</td>\n",
       "      <td>18544</td>\n",
       "    </tr>\n",
       "    <tr>\n",
       "      <th>75_to_79</th>\n",
       "      <td>10218</td>\n",
       "      <td>8873</td>\n",
       "      <td>19091</td>\n",
       "    </tr>\n",
       "    <tr>\n",
       "      <th>80_to_84</th>\n",
       "      <td>10933</td>\n",
       "      <td>11224</td>\n",
       "      <td>22157</td>\n",
       "    </tr>\n",
       "    <tr>\n",
       "      <th>85_to_89</th>\n",
       "      <td>9279</td>\n",
       "      <td>12518</td>\n",
       "      <td>21797</td>\n",
       "    </tr>\n",
       "    <tr>\n",
       "      <th>90+</th>\n",
       "      <td>6570</td>\n",
       "      <td>14024</td>\n",
       "      <td>20594</td>\n",
       "    </tr>\n",
       "  </tbody>\n",
       "</table>\n",
       "</div>"
      ],
      "text/plain": [
       "          males females  total\n",
       "0_to_4     4342    4152   8494\n",
       "5_to_9     4167    3856   8023\n",
       "10_to_14   6741    6323  13064\n",
       "15_to_19  24720   31676  56396\n",
       "20_to_24  28227   34283  62510\n",
       "25_to_29  22224   28596  50820\n",
       "30_to_34  21023   25853  46876\n",
       "35_to_39  18761   22846  41607\n",
       "40_to_44  17060   21923  38983\n",
       "45_to_49  18266   23724  41990\n",
       "50_to_54  19773   25361  45134\n",
       "55_to_59  18366   22109  40475\n",
       "60_to_64  14493   14854  29347\n",
       "65_to_69  10712    8752  19464\n",
       "70_to_74  10402    8142  18544\n",
       "75_to_79  10218    8873  19091\n",
       "80_to_84  10933   11224  22157\n",
       "85_to_89   9279   12518  21797\n",
       "90+        6570   14024  20594"
      ]
     },
     "execution_count": 30,
     "metadata": {},
     "output_type": "execute_result"
    }
   ],
   "source": [
    "age_df"
   ]
  },
  {
   "cell_type": "markdown",
   "metadata": {},
   "source": [
    "### Plotting"
   ]
  },
  {
   "cell_type": "markdown",
   "metadata": {},
   "source": [
    "For fancier bar plots, see this [tutorial](https://www.shanelynn.ie/bar-plots-in-python-using-pandas-dataframes/)."
   ]
  },
  {
   "cell_type": "code",
   "execution_count": 31,
   "metadata": {},
   "outputs": [
    {
     "data": {
      "text/plain": [
       "<AxesSubplot:>"
      ]
     },
     "execution_count": 31,
     "metadata": {},
     "output_type": "execute_result"
    },
    {
     "data": {
      "image/png": "[encoded data removed]",
      "text/plain": [
       "<Figure size 600x400 with 1 Axes>"
      ]
     },
     "metadata": {
      "needs_background": "light"
     },
     "output_type": "display_data"
    }
   ],
   "source": [
    "age_df.plot(kind='bar', y=['males','females'])"
   ]
  },
  {
   "cell_type": "code",
   "execution_count": 32,
   "metadata": {},
   "outputs": [
    {
     "data": {
      "text/plain": [
       "<AxesSubplot:>"
      ]
     },
     "execution_count": 32,
     "metadata": {},
     "output_type": "execute_result"
    },
    {
     "data": {
      "image/png": "[encoded data removed]",
      "text/plain": [
       "<Figure size 600x400 with 1 Axes>"
      ]
     },
     "metadata": {
      "needs_background": "light"
     },
     "output_type": "display_data"
    }
   ],
   "source": [
    "age_df.plot(kind='bar', y='total')"
   ]
  },
  {
   "cell_type": "markdown",
   "metadata": {},
   "source": [
    "## How to get ~~yourself~~ your data in a pickle [file]"
   ]
  },
  {
   "cell_type": "markdown",
   "metadata": {},
   "source": [
    "In the actual dashboard, at this point, there is no need to save the dataframes - you can just add interactive controls to the graphs as you plot them. While developing, however, we want to save the wrangled data in order to be able to experiment with the controls. Pandas luckily makes it easy by providing a method that saves a ```DataFrame``` to a \"pickle\" file. This is based on the ```pickle``` [library](https://docs.python.org/3/library/pickle.html), that however is imported by ```pandas```, so you do not need to import it yourself. While JSON is a standard format that is language-independent, a *pickle* file is Python-specific. This format is thus more flexible, allowing the [serialisation](https://en.wikipedia.org/wiki/Serialization) of a broader range of Python objects; however, it is less portable."
   ]
  },
  {
   "cell_type": "code",
   "execution_count": 33,
   "metadata": {},
   "outputs": [],
   "source": [
    "# pandas makes saving to a pickle file dead easy:\n",
    "timeseriesdf.to_pickle(\"timeseriesdf.pkl\")\n",
    "age_df.to_pickle(\"agedf.pkl\")"
   ]
  },
  {
   "cell_type": "markdown",
   "metadata": {},
   "source": [
    "## Your turn\n",
    "\n",
    "Load the data you saved in the JSON files, munge it, turn it into a ```DataFrame``` and display it; then save your ```DataFrame``` to a *pickle* file. In the next notebook, when we will show you how to add interactive controls to your graphs. "
   ]
  },
  {
   "cell_type": "code",
   "execution_count": 34,
   "metadata": {},
   "outputs": [
    {
     "data": {
      "text/plain": [
       "<AxesSubplot:>"
      ]
     },
     "execution_count": 34,
     "metadata": {},
     "output_type": "execute_result"
    },
    {
     "data": {
      "image/png": "[encoded data removed]",
      "text/plain": [
       "<Figure size 600x400 with 1 Axes>"
      ]
     },
     "metadata": {
      "needs_background": "light"
     },
     "output_type": "display_data"
    }
   ],
   "source": [
    "timeseriesdfv.plot(logy=True)"
   ]
  },
  {
   "cell_type": "markdown",
   "metadata": {},
   "source": [
    "**(C) 2020 Fabrizio Smeraldi** ([f.smeraldi@qmul.ac.uk](mailto:f.smeraldi@qmul.ac.uk) - [web](http://www.eecs.qmul.ac.uk/~fabri/)), all rights reserved."
   ]
  },
  {
   "cell_type": "code",
   "execution_count": null,
   "metadata": {},
   "outputs": [],
   "source": []
  }
 ],
 "metadata": {
  "kernelspec": {
   "display_name": "Python 3 (ipykernel)",
   "language": "python",
   "name": "python3"
  },
  "language_info": {
   "codemirror_mode": {
    "name": "ipython",
    "version": 3
   },
   "file_extension": ".py",
   "mimetype": "text/x-python",
   "name": "python",
   "nbconvert_exporter": "python",
   "pygments_lexer": "ipython3",
   "version": "3.9.6"
  }
 },
 "nbformat": 4,
 "nbformat_minor": 4
}
