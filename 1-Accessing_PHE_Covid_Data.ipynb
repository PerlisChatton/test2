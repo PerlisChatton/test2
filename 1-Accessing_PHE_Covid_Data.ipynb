{
 "cells": [
  {
   "cell_type": "markdown",
   "metadata": {},
   "source": [
    "# Accessing PHE Covid Data"
   ]
  },
  {
   "cell_type": "markdown",
   "metadata": {},
   "source": [
    "[Public Health England](https://www.gov.uk/government/organisations/public-health-england) (PHE) is one of many Institutions worldwide running a Coronavirus [dashboard](https://coronavirus.data.gov.uk/), with current statistics on the pandemic. In this series of notebooks, we will guide you through creating your own simple dashboard based on PHE data and putting it online as a [Binder](https://mybinder.org/).\n",
    "\n",
    "You want to start by clicking on *Developer's<sup>1</sup> Guide* in the dashboard menu, which will take you straight to the  [API documentation](https://coronavirus.data.gov.uk/details/developers-guide/main-api). This will be your main source of information for this project, as far as the interaction with the PHE servers is concerned.\n",
    "\n",
    "<sup>1</sup> *Developer*: that's you!"
   ]
  },
  {
   "cell_type": "markdown",
   "metadata": {},
   "source": [
    "## The web-based API and the SDK"
   ]
  },
  {
   "cell_type": "markdown",
   "metadata": {},
   "source": [
    "Many websites support access to their underlying data through a web-based [Application Programming Interface](https://en.wikipedia.org/wiki/API) (an API for short). This is often based on the *http* protocol, and may involve the excange of information in [JSON format](https://en.wikipedia.org/wiki/JSON). Specifically, using a web-based API typically involves sending *http* requests with parameters conforming to a given schema to a dedicated URL (the API *endpoint*), to which the server responds with JSON content. All this is specified in the PHE [API documentation](https://coronavirus.data.gov.uk/details/developers-guide/main-api).\n",
    "\n",
    "As you can see from the documentation, PHE actually also offers a Python Software Devekopment Kit (SDK). This is a Python wrapper that facilitates access to the API by building the requests for you, forwarding them to the API access point and packaging the response into some convenient format. The PHE [Pyhton SDK](https://pypi.org/project/uk-covid19/) is found on the standard Python package repository, PyPi.\n",
    "\n",
    "The first step, therefore, consists in installing the Python SDK. This will depend on how you are accessing these matierials.\n",
    "\n",
    "* If you are working in a Binder: the SDK is already installed for you.\n",
    "* On the EECS JupyterHub: Save your notebooks and close them. Open a terminal and enter the following command (note the double minus ```--```):\n",
    "```\n",
    "pip install --user uk-covid19\n",
    "```\n",
    "you can then close the terminal (type ```exit``` and close the tab). Finally go to *Control Panel > Stop my Server*, start the server again and reopen your notebooks.\n",
    "* On your local machine: this depends on your setup. Entering this line in a command shell will hopefully work:\n",
    "```\n",
    "pip install uk-covid19\n",
    "```\n",
    "if it doesn't, try searching the documentation of your Python distribution or Google for instructions on how to install PiPy packages on your machine. \n",
    "\n",
    "If you have successfully  installed the SDK in your environment, the following cell should work:"
   ]
  },
  {
   "cell_type": "code",
   "execution_count": 1,
   "metadata": {},
   "outputs": [],
   "source": [
    "# note the name of the module has an underscore in place of the -\n",
    "from uk_covid19 import Cov19API\n",
    "import json"
   ]
  },
  {
   "cell_type": "markdown",
   "metadata": {},
   "source": [
    "## Accessing the API through the SDK"
   ]
  },
  {
   "cell_type": "markdown",
   "metadata": {},
   "source": [
    "We are now ready to download data from the server via the SDK. Before continuing, you should have a look at the [SDK documentation](https://publichealthengland.github.io/coronavirus-dashboard-api-python-sdk/index.html), which will refer you to the general [API documentation](https://coronavirus.data.gov.uk/details/developers-guide/main-api) for the meaning of the main parameters. The examples below follow the documentation closely.\n",
    "\n",
    "According to the documentation, the first step is defining a [*filter*](https://publichealthengland.github.io/coronavirus-dashboard-api-python-sdk/pages/examples/general_use.html#filters) - this is a **list** specifiying an *areaType* parameter and an optional *areaName*, *areaCode* and *date* parameters. In the jargon of the documentation, these parameters are called *metrics* - check out the metrics allowed for filters [here](https://coronavirus.data.gov.uk/details/developers-guide/main-api#params-filters)."
   ]
  },
  {
   "cell_type": "markdown",
   "metadata": {},
   "source": [
    "metrics link https://coronavirus.data.gov.uk/details/developers-guide/generic-api"
   ]
  },
  {
   "cell_type": "code",
   "execution_count": 2,
   "metadata": {},
   "outputs": [],
   "source": [
    "filters = [\n",
    "    'areaType=overview' # note each metric-value pair is inside one string\n",
    "]"
   ]
  },
  {
   "cell_type": "markdown",
   "metadata": {},
   "source": [
    "Next, you want do define a [*structure*](https://publichealthengland.github.io/coronavirus-dashboard-api-python-sdk/pages/examples/general_use.html#structure). According to the SDK ocumentation, this is a **dictionary** that specifies which data fields you want to request. In fact, looking at the API documentation for [structures](https://coronavirus.data.gov.uk/details/developers-guide/main-api#params-structure) shows that they do more: they also specify the \"format\" in which you want to receive the response. Read the documentation carefully, including the list of valid *metrics* for a *structure* (which is in fact the most important part).\n",
    "\n",
    "The structure below selects the metrics (that is, the PHE database fields) given as values of the dictionary, and at the same time instructs the API to rename the fields to the simpler names given as keys before serving them to us."
   ]
  },
  {
   "cell_type": "markdown",
   "metadata": {},
   "source": [
    "https://coronavirus.data.gov.uk/details/developers-guide/main-api#params-structure\n",
    "link para parametros "
   ]
  },
  {
   "cell_type": "code",
   "execution_count": 3,
   "metadata": {},
   "outputs": [],
   "source": [
    "# values here are the names of the PHE metrics\n",
    "structure = {\n",
    "    \"date\": \"date\",\n",
    "    \"cases\": \"newCasesByPublishDate\",\n",
    "    \"hospital\": \"newAdmissions\",\n",
    "    \"deaths\": \"cumDeaths28DaysByDeathDateRate\"    \n",
    "}"
   ]
  },
  {
   "cell_type": "markdown",
   "metadata": {},
   "source": [
    "**NOTE:** As of version 1.2.0 of the SDK, keys in the ```structure``` dictionary are apparently restricted to alphabet letters. Spaces, digits and underscores seem to cause the query to fail and should be avoided.\n",
    "\n",
    "Accessing the API is easy at this point. You just need to create a ```Cov19API``` object by passing the filters and structure to its constructor, as follows:"
   ]
  },
  {
   "cell_type": "code",
   "execution_count": 32,
   "metadata": {},
   "outputs": [],
   "source": []
  },
  {
   "cell_type": "code",
   "execution_count": 33,
   "metadata": {},
   "outputs": [],
   "source": [
    "api = Cov19API(filters=filters, structure=structure)"
   ]
  },
  {
   "cell_type": "markdown",
   "metadata": {},
   "source": [
    "Finally, calling the ```get_json()``` method of the ```api``` object actually sends the request to the API and retrieves the response (theoretically) in JSON format."
   ]
  },
  {
   "cell_type": "code",
   "execution_count": 34,
   "metadata": {},
   "outputs": [],
   "source": [
    "# NOTE: this call polls the server. It may fail in case of connectivity problems or if the data\n",
    "# are not available for any reason. It will also fail if the metric in the structure are not compatible\n",
    "# with the filters (eg they are not defined at the national or local level).\n",
    "timeseries=api.get_json()"
   ]
  },
  {
   "cell_type": "code",
   "execution_count": 7,
   "metadata": {},
   "outputs": [],
   "source": [
    "#print(timeseries)"
   ]
  },
  {
   "cell_type": "code",
   "execution_count": null,
   "metadata": {},
   "outputs": [],
   "source": [
    "print(type(timeseries)) # hold on, this is not JSON!"
   ]
  },
  {
   "cell_type": "markdown",
   "metadata": {},
   "source": [
    "As you can see, ```get_json()``` is a bit of a misnomer - the function actually returns a dictionary containing nested lists and dictionaries. As we will see this is not too different from what a JSON string looks like, but technically, this is something different. All the better for us, we don't need to decode it - but we may actually want to encode it, see below.\n",
    "\n",
    "Also, some entries contain a value of ```None```, we will asssume that stands for a ```0``` rather than for not available. In any case, by and large we got our data, so this is a success."
   ]
  },
  {
   "cell_type": "markdown",
   "metadata": {},
   "source": [
    "### Another example: Cases by gender and age\n",
    "\n",
    "The example above lends itself to visualisation as a plot of cases, hospital admissions and fatalities vs time. In this example, instead, we investigate the distribution of cases by sex and age bands; eventually, we will plot this as a bar chart.\n",
    "\n",
    "Again we define our *filters* and *structure*, but with different *metrics*, as follows: "
   ]
  },
  {
   "cell_type": "code",
   "execution_count": 21,
   "metadata": {},
   "outputs": [],
   "source": [
    "filters = [\n",
    "    'areaType=overview' # note each metric-value pair is inside one string\n",
    "]\n",
    "\n",
    "# values here are the names of the PHE metrics\n",
    "structure = {\n",
    "    \"males\": \"maleCases\",\n",
    "    \"females\": \"femaleCases\"\n",
    "}"
   ]
  },
  {
   "cell_type": "markdown",
   "metadata": {},
   "source": [
    "The next two steps are standard:"
   ]
  },
  {
   "cell_type": "code",
   "execution_count": 22,
   "metadata": {},
   "outputs": [],
   "source": [
    "api = Cov19API(filters=filters, structure=structure)"
   ]
  },
  {
   "cell_type": "code",
   "execution_count": 23,
   "metadata": {},
   "outputs": [],
   "source": [
    "# NOTE: this call polls the server. It may fail in case of connectivity problems or if the data\n",
    "# are not available for any reason. It will also fail if the metric in the structure are not compatible\n",
    "# with the filters (eg they are not defined at the national or local level).\n",
    "agedistribution=api.get_json()"
   ]
  },
  {
   "cell_type": "code",
   "execution_count": null,
   "metadata": {},
   "outputs": [],
   "source": [
    "#print(agedistribution)"
   ]
  },
  {
   "cell_type": "markdown",
   "metadata": {},
   "source": [
    "Again this is a dictionary and it does contain the data we expected. Note however how the formatting and the type of data depend, maybe unsurprisingly, on the specific *metric* we queried."
   ]
  },
  {
   "cell_type": "markdown",
   "metadata": {},
   "source": [
    "## Saving the data in JSON format"
   ]
  },
  {
   "cell_type": "markdown",
   "metadata": {},
   "source": [
    "At this point, we want to save the result of our API queries in order to \n",
    "* have something definite to work on in the other notebooks\n",
    "* eventually, give our dashboard some starting data.\n",
    "\n",
    "The problem arises of how to save these dictionaries to the disk. Luckily we do not have to save them in a bespoke way at this stage - we can use the [json module](https://docs.python.org/3/library/json.html) in the stardard library to dump them sa they are in [JSON format](https://en.wikipedia.org/wiki/JSON). This is straightforward:"
   ]
  },
  {
   "cell_type": "code",
   "execution_count": 38,
   "metadata": {},
   "outputs": [],
   "source": [
    "import json"
   ]
  },
  {
   "cell_type": "code",
   "execution_count": null,
   "metadata": {},
   "outputs": [],
   "source": [
    "with open(\"timeseries.json\", \"wt\") as OUTF:\n",
    "    json.dump(timeseries, OUTF)"
   ]
  },
  {
   "cell_type": "code",
   "execution_count": null,
   "metadata": {},
   "outputs": [],
   "source": [
    "with open(\"agedistribution.json\", \"wt\") as OUTF:\n",
    "    json.dump(agedistribution, OUTF)"
   ]
  },
  {
   "cell_type": "markdown",
   "metadata": {},
   "source": [
    "If you now use a text editor (or the Jupyter Notebook interface), you will see that the content of the files closely resembles the tangle of dictionaries and lists we have seen above. However, technically, these are no longer Python dictionary and files, rather the JSON representation of them, and could be opened by another program written in another language, that will map them to an equivalent data structure (whichever is provided by that language)."
   ]
  },
  {
   "cell_type": "markdown",
   "metadata": {},
   "source": [
    "## Your turn"
   ]
  },
  {
   "cell_type": "markdown",
   "metadata": {},
   "source": [
    "Explore the various *metrics* available for [*filters*](https://coronavirus.data.gov.uk/details/developers-guide/main-api#filters-multiple_params) and [*structures*](https://coronavirus.data.gov.uk/details/developers-guide/main-api#structure-metrics) and think of a query that may be of interest to you, and how you might then want to visualise the data. You can modify either the *structure*, in order to select different types of data, or the *filters*, to specify a different granularity (national or local level, specific dates, etc). Possible graphs of interest might be:\n",
    "* a comparison of the number of test carried out with planned testing capacity;\n",
    "* a comparison of the number of new cases with the number of tests;\n",
    "* the above, broken down by region;\n",
    "* a comparison of the number of cases with hospital admissions;\n",
    "* a comparison of hospital admissions with ventilator bed occupancy;\n",
    "* new cases in major cities as a fraction of the population of those cities;\n",
    "* a comparison of the age distribution of new cases at different times (this will require more than one API access)\n",
    "\n",
    "Please keep in mind the following points:\n",
    "* Not all metrics are available for all dates, or at all levels of granularity; querying for data that's unavailable will result in an error.\n",
    "* Documentation is poor - welcome to the real world. A BSc in Reverse Engineering would come in handy.\n",
    "* Experimenting is fine. However, avoid flooding the server with multiple queries at machine speed - if you use a ```for``` loop to generate API accesses, use the ```sleep()``` function from the ```time``` module to introduce a 1 second delay between one query and the next (see [here](https://docs.python.org/3/library/time.html#time.sleep) for details). The last thing you want is for PHE to ban you.\n",
    "\n",
    "Once you succeed in retrieving the data you want, save them in JSON format and move on to the next stage - visualisation.\n",
    "\n",
    "\n",
    "**NOTE:** In the visualisation stage, we are going to load the data into a ```pandas.DataFrame``` structure. As you will see from the documentation, the SDK contains a method ```get_dataframe()``` that allows you to retrieve the data in the form of a ```DataFrame``` directly. From my tests, however, this method only works with certain *metrics*, and returns gibberish in other cases. I would therefore advise you to stick with JSON. In any case, JSON is a de-facto standard for APIs, and some familiarity with this format is a valuable skill in itself."
   ]
  },
  {
   "cell_type": "code",
   "execution_count": null,
   "metadata": {},
   "outputs": [],
   "source": []
  },
  {
   "cell_type": "markdown",
   "metadata": {},
   "source": [
    "## INTENTO"
   ]
  },
  {
   "cell_type": "code",
   "execution_count": 70,
   "metadata": {},
   "outputs": [],
   "source": [
    "\n",
    "filters = [\n",
    "    'areaType=overview' # note each metric-value pair is inside one string\n",
    "]\n",
    "\n",
    "# values here are the names of the PHE metrics\n",
    "structure = {\n",
    "    \"date\": \"date\",\n",
    "    \"DDeaths\": \"cumDeaths28DaysByDeathDateRate\",\n",
    "    \"Dhosp\": \"newAdmissions\",\n",
    "    \"2VA\": \"cumPeopleVaccinatedSecondDoseByPublishDate\"\n",
    "}\n"
   ]
  },
  {
   "cell_type": "code",
   "execution_count": 71,
   "metadata": {},
   "outputs": [],
   "source": [
    "api = Cov19API(filters=filters, structure=structure)"
   ]
  },
  {
   "cell_type": "code",
   "execution_count": 72,
   "metadata": {},
   "outputs": [],
   "source": [
    "Vaccines=api.get_json()\n"
   ]
  },
  {
   "cell_type": "code",
   "execution_count": 73,
   "metadata": {},
   "outputs": [
    {
     "name": "stdout",
     "output_type": "stream",
     "text": [
      "{'data': [{'date': '2021-10-25', 'DDeaths': 208.5, 'Dhosp': None, '2VA': 45582891}, {'date': '2021-10-24', 'DDeaths': 208.4, 'Dhosp': None, '2VA': 45561445}, {'date': '2021-10-23', 'DDeaths': 208.3, 'Dhosp': None, '2VA': 45543363}, {'date': '2021-10-22', 'DDeaths': 208.2, 'Dhosp': 916, '2VA': 45513120}, {'date': '2021-10-21', 'DDeaths': 208.0, 'Dhosp': 959, '2VA': 45486950}, {'date': '2021-10-20', 'DDeaths': 207.8, 'Dhosp': 1085, '2VA': 45460122}, {'date': '2021-10-19', 'DDeaths': 207.7, 'Dhosp': 1089, '2VA': 45433757}, {'date': '2021-10-18', 'DDeaths': 207.5, 'Dhosp': 1070, '2VA': 45400990}, {'date': '2021-10-17', 'DDeaths': 207.3, 'Dhosp': 962, '2VA': 45377411}, {'date': '2021-10-16', 'DDeaths': 207.1, 'Dhosp': 872, '2VA': 45360146}, {'date': '2021-10-15', 'DDeaths': 206.9, 'Dhosp': 935, '2VA': 45326663}, {'date': '2021-10-14', 'DDeaths': 206.7, 'Dhosp': 900, '2VA': 45297231}, {'date': '2021-10-13', 'DDeaths': 206.5, 'Dhosp': 918, '2VA': 45269240}, {'date': '2021-10-12', 'DDeaths': 206.3, 'Dhosp': 925, '2VA': 45239759}, {'date': '2021-10-11', 'DDeaths': 206.2, 'Dhosp': 835, '2VA': 45212813}, {'date': '2021-10-10', 'DDeaths': 206.0, 'Dhosp': 722, '2VA': 45189181}, {'date': '2021-10-09', 'DDeaths': 205.9, 'Dhosp': 758, '2VA': 45169730}, {'date': '2021-10-08', 'DDeaths': 205.7, 'Dhosp': 783, '2VA': 45136253}, {'date': '2021-10-07', 'DDeaths': 205.5, 'Dhosp': 811, '2VA': 45107185}, {'date': '2021-10-06', 'DDeaths': 205.3, 'Dhosp': 777, '2VA': 45078529}, {'date': '2021-10-05', 'DDeaths': 205.2, 'Dhosp': 835, '2VA': 45049953}, {'date': '2021-10-04', 'DDeaths': 205.0, 'Dhosp': 804, '2VA': 45021381}, {'date': '2021-10-03', 'DDeaths': 204.9, 'Dhosp': 716, '2VA': 44992044}, {'date': '2021-10-02', 'DDeaths': 204.7, 'Dhosp': 693, '2VA': 44970512}, {'date': '2021-10-01', 'DDeaths': 204.6, 'Dhosp': 688, '2VA': 44936121}, {'date': '2021-09-30', 'DDeaths': 204.4, 'Dhosp': 696, '2VA': 44901832}, {'date': '2021-09-29', 'DDeaths': 204.2, 'Dhosp': 803, '2VA': 44867373}, {'date': '2021-09-28', 'DDeaths': 204.0, 'Dhosp': 771, '2VA': 44833280}, {'date': '2021-09-27', 'DDeaths': 203.9, 'Dhosp': 779, '2VA': 44799748}, {'date': '2021-09-26', 'DDeaths': 203.7, 'Dhosp': 667, '2VA': 44766571}, {'date': '2021-09-25', 'DDeaths': 203.5, 'Dhosp': 672, '2VA': 44741032}, {'date': '2021-09-24', 'DDeaths': 203.4, 'Dhosp': 724, '2VA': 44693914}, {'date': '2021-09-23', 'DDeaths': 203.2, 'Dhosp': 772, '2VA': 44649155}, {'date': '2021-09-22', 'DDeaths': 203.0, 'Dhosp': 753, '2VA': 44604567}, {'date': '2021-09-21', 'DDeaths': 202.8, 'Dhosp': 801, '2VA': 44560520}, {'date': '2021-09-20', 'DDeaths': 202.6, 'Dhosp': 809, '2VA': 44517114}, {'date': '2021-09-19', 'DDeaths': 202.4, 'Dhosp': 729, '2VA': 44470772}, {'date': '2021-09-18', 'DDeaths': 202.2, 'Dhosp': 758, '2VA': 44435615}, {'date': '2021-09-17', 'DDeaths': 202.0, 'Dhosp': 752, '2VA': 44363118}, {'date': '2021-09-16', 'DDeaths': 201.8, 'Dhosp': 890, '2VA': 44302734}, {'date': '2021-09-15', 'DDeaths': 201.5, 'Dhosp': 947, '2VA': 44238761}, {'date': '2021-09-14', 'DDeaths': 201.3, 'Dhosp': 945, '2VA': 44175471}, {'date': '2021-09-13', 'DDeaths': 201.1, 'Dhosp': 937, '2VA': 44108746}, {'date': '2021-09-12', 'DDeaths': 200.9, 'Dhosp': 862, '2VA': 44048093}, {'date': '2021-09-11', 'DDeaths': 200.7, 'Dhosp': 850, '2VA': 43995478}, {'date': '2021-09-10', 'DDeaths': 200.5, 'Dhosp': 921, '2VA': 43897419}, {'date': '2021-09-09', 'DDeaths': 200.3, 'Dhosp': 1033, '2VA': 43805608}, {'date': '2021-09-08', 'DDeaths': 200.1, 'Dhosp': 1161, '2VA': 43708906}, {'date': '2021-09-07', 'DDeaths': 199.9, 'Dhosp': 1102, '2VA': 43620946}, {'date': '2021-09-06', 'DDeaths': 199.6, 'Dhosp': 1077, '2VA': 43535098}, {'date': '2021-09-05', 'DDeaths': 199.4, 'Dhosp': 878, '2VA': 43455083}, {'date': '2021-09-04', 'DDeaths': 199.2, 'Dhosp': 950, '2VA': 43381890}, {'date': '2021-09-03', 'DDeaths': 199.0, 'Dhosp': 927, '2VA': 43253337}, {'date': '2021-09-02', 'DDeaths': 198.8, 'Dhosp': 1001, '2VA': 43142747}, {'date': '2021-09-01', 'DDeaths': 198.6, 'Dhosp': 1077, '2VA': 43023372}, {'date': '2021-08-31', 'DDeaths': 198.4, 'Dhosp': 997, '2VA': 42909987}, {'date': '2021-08-30', 'DDeaths': 198.2, 'Dhosp': 997, '2VA': 42790585}, {'date': '2021-08-29', 'DDeaths': 198.1, 'Dhosp': 852, '2VA': 42723937}, {'date': '2021-08-28', 'DDeaths': 197.9, 'Dhosp': 861, '2VA': 42644497}, {'date': '2021-08-27', 'DDeaths': 197.7, 'Dhosp': 939, '2VA': 42510809}, {'date': '2021-08-26', 'DDeaths': 197.5, 'Dhosp': 952, '2VA': 42379353}, {'date': '2021-08-25', 'DDeaths': 197.3, 'Dhosp': 1031, '2VA': 42234417}, {'date': '2021-08-24', 'DDeaths': 197.2, 'Dhosp': 998, '2VA': 42072712}, {'date': '2021-08-23', 'DDeaths': 197.0, 'Dhosp': 967, '2VA': 41942036}, {'date': '2021-08-22', 'DDeaths': 196.9, 'Dhosp': 832, '2VA': 41810753}, {'date': '2021-08-21', 'DDeaths': 196.7, 'Dhosp': 871, '2VA': 41694401}, {'date': '2021-08-20', 'DDeaths': 196.5, 'Dhosp': 869, '2VA': 41499520}, {'date': '2021-08-19', 'DDeaths': 196.3, 'Dhosp': 945, '2VA': 41332128}, {'date': '2021-08-18', 'DDeaths': 196.2, 'Dhosp': 909, '2VA': 41157069}, {'date': '2021-08-17', 'DDeaths': 196.0, 'Dhosp': 966, '2VA': 40987846}, {'date': '2021-08-16', 'DDeaths': 195.9, 'Dhosp': 870, '2VA': 40841971}, {'date': '2021-08-15', 'DDeaths': 195.8, 'Dhosp': 808, '2VA': 40703581}, {'date': '2021-08-14', 'DDeaths': 195.6, 'Dhosp': 788, '2VA': 40577198}, {'date': '2021-08-13', 'DDeaths': 195.5, 'Dhosp': 787, '2VA': 40377614}, {'date': '2021-08-12', 'DDeaths': 195.3, 'Dhosp': 860, '2VA': 40206029}, {'date': '2021-08-11', 'DDeaths': 195.2, 'Dhosp': 848, '2VA': 40013470}, {'date': '2021-08-10', 'DDeaths': 195.1, 'Dhosp': 891, '2VA': 39839709}, {'date': '2021-08-09', 'DDeaths': 194.9, 'Dhosp': 755, '2VA': 39688566}, {'date': '2021-08-08', 'DDeaths': 194.8, 'Dhosp': 744, '2VA': 39551538}, {'date': '2021-08-07', 'DDeaths': 194.7, 'Dhosp': 727, '2VA': 39429468}, {'date': '2021-08-06', 'DDeaths': 194.6, 'Dhosp': 779, '2VA': 39215885}, {'date': '2021-08-05', 'DDeaths': 194.4, 'Dhosp': 811, '2VA': 39047529}, {'date': '2021-08-04', 'DDeaths': 194.3, 'Dhosp': 835, '2VA': 38874837}, {'date': '2021-08-03', 'DDeaths': 194.2, 'Dhosp': 764, '2VA': 38709168}, {'date': '2021-08-02', 'DDeaths': 194.0, 'Dhosp': 785, '2VA': 38566407}, {'date': '2021-08-01', 'DDeaths': 193.9, 'Dhosp': 740, '2VA': 38440215}, {'date': '2021-07-31', 'DDeaths': 193.8, 'Dhosp': 675, '2VA': 38322171}, {'date': '2021-07-30', 'DDeaths': 193.7, 'Dhosp': 747, '2VA': 38110157}, {'date': '2021-07-29', 'DDeaths': 193.5, 'Dhosp': 837, '2VA': 37939061}, {'date': '2021-07-28', 'DDeaths': 193.4, 'Dhosp': 851, '2VA': 37759143}, {'date': '2021-07-27', 'DDeaths': 193.3, 'Dhosp': 916, '2VA': 37587970}, {'date': '2021-07-26', 'DDeaths': 193.1, 'Dhosp': 939, '2VA': 37436320}, {'date': '2021-07-25', 'DDeaths': 193.0, 'Dhosp': 941, '2VA': 37287384}, {'date': '2021-07-24', 'DDeaths': 192.9, 'Dhosp': 827, '2VA': 37169428}, {'date': '2021-07-23', 'DDeaths': 192.8, 'Dhosp': 864, '2VA': 36965542}, {'date': '2021-07-22', 'DDeaths': 192.7, 'Dhosp': 954, '2VA': 36776201}, {'date': '2021-07-21', 'DDeaths': 192.6, 'Dhosp': 928, '2VA': 36587904}, {'date': '2021-07-20', 'DDeaths': 192.5, 'Dhosp': 936, '2VA': 36404566}, {'date': '2021-07-19', 'DDeaths': 192.4, 'Dhosp': 876, '2VA': 36243287}, {'date': '2021-07-18', 'DDeaths': 192.3, 'Dhosp': 799, '2VA': 36099727}, {'date': '2021-07-17', 'DDeaths': 192.2, 'Dhosp': 709, '2VA': 35970849}, {'date': '2021-07-16', 'DDeaths': 192.1, 'Dhosp': 700, '2VA': 35745635}, {'date': '2021-07-15', 'DDeaths': 192.0, 'Dhosp': 772, '2VA': 35543321}, {'date': '2021-07-14', 'DDeaths': 192.0, 'Dhosp': 755, '2VA': 35341428}, {'date': '2021-07-13', 'DDeaths': 191.9, 'Dhosp': 751, '2VA': 35155767}, {'date': '2021-07-12', 'DDeaths': 191.8, 'Dhosp': 732, '2VA': 34997491}, {'date': '2021-07-11', 'DDeaths': 191.8, 'Dhosp': 593, '2VA': 34872131}, {'date': '2021-07-10', 'DDeaths': 191.7, 'Dhosp': 552, '2VA': 34764511}, {'date': '2021-07-09', 'DDeaths': 191.7, 'Dhosp': 556, '2VA': 34553065}, {'date': '2021-07-08', 'DDeaths': 191.6, 'Dhosp': 607, '2VA': 34374246}, {'date': '2021-07-07', 'DDeaths': 191.5, 'Dhosp': 569, '2VA': 34198779}, {'date': '2021-07-06', 'DDeaths': 191.5, 'Dhosp': 574, '2VA': 34027302}, {'date': '2021-07-05', 'DDeaths': 191.4, 'Dhosp': 517, '2VA': 33874176}, {'date': '2021-07-04', 'DDeaths': 191.4, 'Dhosp': 465, '2VA': 33726362}, {'date': '2021-07-03', 'DDeaths': 191.4, 'Dhosp': 392, '2VA': 33614952}, {'date': '2021-07-02', 'DDeaths': 191.3, 'Dhosp': 390, '2VA': 33418743}, {'date': '2021-07-01', 'DDeaths': 191.3, 'Dhosp': 372, '2VA': 33241265}, {'date': '2021-06-30', 'DDeaths': 191.3, 'Dhosp': 416, '2VA': 33048199}, {'date': '2021-06-29', 'DDeaths': 191.2, 'Dhosp': 368, '2VA': 32872450}, {'date': '2021-06-28', 'DDeaths': 191.2, 'Dhosp': 310, '2VA': 32721762}, {'date': '2021-06-27', 'DDeaths': 191.2, 'Dhosp': 267, '2VA': 32583746}, {'date': '2021-06-26', 'DDeaths': 191.1, 'Dhosp': 267, '2VA': 32460191}, {'date': '2021-06-25', 'DDeaths': 191.1, 'Dhosp': 255, '2VA': 32260686}, {'date': '2021-06-24', 'DDeaths': 191.1, 'Dhosp': 255, '2VA': 32085916}, {'date': '2021-06-23', 'DDeaths': 191.1, 'Dhosp': 277, '2VA': 31908103}, {'date': '2021-06-22', 'DDeaths': 191.0, 'Dhosp': 238, '2VA': 31740115}, {'date': '2021-06-21', 'DDeaths': 191.0, 'Dhosp': 228, '2VA': 31489240}, {'date': '2021-06-20', 'DDeaths': 191.0, 'Dhosp': 206, '2VA': 31449915}, {'date': '2021-06-19', 'DDeaths': 191.0, 'Dhosp': 212, '2VA': 31340507}, {'date': '2021-06-18', 'DDeaths': 190.9, 'Dhosp': 238, '2VA': 31104144}, {'date': '2021-06-17', 'DDeaths': 190.9, 'Dhosp': 242, '2VA': 30898467}, {'date': '2021-06-16', 'DDeaths': 190.9, 'Dhosp': 229, '2VA': 30675207}, {'date': '2021-06-15', 'DDeaths': 190.9, 'Dhosp': 232, '2VA': 30440373}, {'date': '2021-06-14', 'DDeaths': 190.9, 'Dhosp': 228, '2VA': 30209707}, {'date': '2021-06-13', 'DDeaths': 190.8, 'Dhosp': 222, '2VA': 29973779}, {'date': '2021-06-12', 'DDeaths': 190.8, 'Dhosp': 177, '2VA': 29792658}, {'date': '2021-06-11', 'DDeaths': 190.8, 'Dhosp': 179, '2VA': 29472332}, {'date': '2021-06-10', 'DDeaths': 190.8, 'Dhosp': 201, '2VA': 29165140}, {'date': '2021-06-09', 'DDeaths': 190.8, 'Dhosp': 193, '2VA': 28857102}, {'date': '2021-06-08', 'DDeaths': 190.8, 'Dhosp': 190, '2VA': 28540844}, {'date': '2021-06-07', 'DDeaths': 190.8, 'Dhosp': 175, '2VA': 28227362}, {'date': '2021-06-06', 'DDeaths': 190.8, 'Dhosp': 154, '2VA': 27921294}, {'date': '2021-06-05', 'DDeaths': 190.7, 'Dhosp': 126, '2VA': 27661353}, {'date': '2021-06-04', 'DDeaths': 190.7, 'Dhosp': 123, '2VA': 27187975}, {'date': '2021-06-03', 'DDeaths': 190.7, 'Dhosp': 126, '2VA': 26799944}, {'date': '2021-06-02', 'DDeaths': 190.7, 'Dhosp': 129, '2VA': 26422303}, {'date': '2021-06-01', 'DDeaths': 190.7, 'Dhosp': 154, '2VA': 26073284}, {'date': '2021-05-31', 'DDeaths': 190.7, 'Dhosp': 124, '2VA': 25734719}, {'date': '2021-05-30', 'DDeaths': 190.7, 'Dhosp': 112, '2VA': 25539173}, {'date': '2021-05-29', 'DDeaths': 190.7, 'Dhosp': 104, '2VA': 25332851}, {'date': '2021-05-28', 'DDeaths': 190.7, 'Dhosp': 140, '2VA': 24914003}, {'date': '2021-05-27', 'DDeaths': 190.6, 'Dhosp': 127, '2VA': 24478052}, {'date': '2021-05-26', 'DDeaths': 190.6, 'Dhosp': 132, '2VA': 24043956}, {'date': '2021-05-25', 'DDeaths': 190.6, 'Dhosp': 133, '2VA': 23616498}, {'date': '2021-05-24', 'DDeaths': 190.6, 'Dhosp': 139, '2VA': 23228511}, {'date': '2021-05-23', 'DDeaths': 190.6, 'Dhosp': 114, '2VA': 22895556}, {'date': '2021-05-22', 'DDeaths': 190.6, 'Dhosp': 120, '2VA': 22643417}, {'date': '2021-05-21', 'DDeaths': 190.6, 'Dhosp': 124, '2VA': 22086466}, {'date': '2021-05-20', 'DDeaths': 190.6, 'Dhosp': 132, '2VA': 21659783}, {'date': '2021-05-19', 'DDeaths': 190.6, 'Dhosp': 127, '2VA': 21239471}, {'date': '2021-05-18', 'DDeaths': 190.5, 'Dhosp': 128, '2VA': 20870453}, {'date': '2021-05-17', 'DDeaths': 190.5, 'Dhosp': 102, '2VA': 20546452}, {'date': '2021-05-16', 'DDeaths': 190.5, 'Dhosp': 80, '2VA': 20287403}, {'date': '2021-05-15', 'DDeaths': 190.5, 'Dhosp': 91, '2VA': 20103658}, {'date': '2021-05-14', 'DDeaths': 190.5, 'Dhosp': 93, '2VA': 19712412}, {'date': '2021-05-13', 'DDeaths': 190.5, 'Dhosp': 107, '2VA': 19319010}, {'date': '2021-05-12', 'DDeaths': 190.5, 'Dhosp': 119, '2VA': 18890969}, {'date': '2021-05-11', 'DDeaths': 190.5, 'Dhosp': 110, '2VA': 18438532}, {'date': '2021-05-10', 'DDeaths': 190.5, 'Dhosp': 104, '2VA': 18088385}, {'date': '2021-05-09', 'DDeaths': 190.4, 'Dhosp': 104, '2VA': 17856550}, {'date': '2021-05-08', 'DDeaths': 190.4, 'Dhosp': 109, '2VA': 17669379}, {'date': '2021-05-07', 'DDeaths': 190.4, 'Dhosp': 105, '2VA': 17230542}, {'date': '2021-05-06', 'DDeaths': 190.4, 'Dhosp': 120, '2VA': 16764720}, {'date': '2021-05-05', 'DDeaths': 190.4, 'Dhosp': 118, '2VA': 16291719}, {'date': '2021-05-04', 'DDeaths': 190.4, 'Dhosp': 102, '2VA': 15887493}, {'date': '2021-05-03', 'DDeaths': 190.4, 'Dhosp': 123, '2VA': 15630007}, {'date': '2021-05-02', 'DDeaths': 190.3, 'Dhosp': 120, '2VA': 15502508}, {'date': '2021-05-01', 'DDeaths': 190.3, 'Dhosp': 101, '2VA': 15329617}, {'date': '2021-04-30', 'DDeaths': 190.3, 'Dhosp': 110, '2VA': 14957313}, {'date': '2021-04-29', 'DDeaths': 190.3, 'Dhosp': 101, '2VA': 14535528}, {'date': '2021-04-28', 'DDeaths': 190.3, 'Dhosp': 112, '2VA': 14043961}, {'date': '2021-04-27', 'DDeaths': 190.3, 'Dhosp': 167, '2VA': 13581076}, {'date': '2021-04-26', 'DDeaths': 190.2, 'Dhosp': 134, '2VA': 13201811}, {'date': '2021-04-25', 'DDeaths': 190.2, 'Dhosp': 138, '2VA': 12897123}, {'date': '2021-04-24', 'DDeaths': 190.2, 'Dhosp': 129, '2VA': 12636322}, {'date': '2021-04-23', 'DDeaths': 190.2, 'Dhosp': 155, '2VA': 12088686}, {'date': '2021-04-22', 'DDeaths': 190.2, 'Dhosp': 120, '2VA': 11623671}, {'date': '2021-04-21', 'DDeaths': 190.1, 'Dhosp': 172, '2VA': 11192601}, {'date': '2021-04-20', 'DDeaths': 190.1, 'Dhosp': 136, '2VA': 10775817}, {'date': '2021-04-19', 'DDeaths': 190.1, 'Dhosp': 177, '2VA': 10425790}, {'date': '2021-04-18', 'DDeaths': 190.0, 'Dhosp': 141, '2VA': 10152039}, {'date': '2021-04-17', 'DDeaths': 190.0, 'Dhosp': 158, '2VA': 9930846}, {'date': '2021-04-16', 'DDeaths': 190.0, 'Dhosp': 159, '2VA': 9431211}, {'date': '2021-04-15', 'DDeaths': 190.0, 'Dhosp': 161, '2VA': 8931547}, {'date': '2021-04-14', 'DDeaths': 189.9, 'Dhosp': 196, '2VA': 8513864}, {'date': '2021-04-13', 'DDeaths': 189.9, 'Dhosp': 181, '2VA': 8170081}, {'date': '2021-04-12', 'DDeaths': 189.9, 'Dhosp': 207, '2VA': 7857396}, {'date': '2021-04-11', 'DDeaths': 189.8, 'Dhosp': 204, '2VA': 7656205}, {'date': '2021-04-10', 'DDeaths': 189.8, 'Dhosp': 187, '2VA': 7466540}, {'date': '2021-04-09', 'DDeaths': 189.8, 'Dhosp': 205, '2VA': 6991310}, {'date': '2021-04-08', 'DDeaths': 189.7, 'Dhosp': 208, '2VA': 6541174}, {'date': '2021-04-07', 'DDeaths': 189.7, 'Dhosp': 234, '2VA': 6091905}, {'date': '2021-04-06', 'DDeaths': 189.6, 'Dhosp': 224, '2VA': 5683509}, {'date': '2021-04-05', 'DDeaths': 189.6, 'Dhosp': 238, '2VA': 5496716}, {'date': '2021-04-04', 'DDeaths': 189.6, 'Dhosp': 197, '2VA': 5432126}, {'date': '2021-04-03', 'DDeaths': 189.5, 'Dhosp': 223, '2VA': 5384418}, {'date': '2021-04-02', 'DDeaths': 189.5, 'Dhosp': 238, '2VA': 5205505}, {'date': '2021-04-01', 'DDeaths': 189.4, 'Dhosp': 233, '2VA': 4958874}, {'date': '2021-03-31', 'DDeaths': 189.4, 'Dhosp': 269, '2VA': 4513458}, {'date': '2021-03-30', 'DDeaths': 189.3, 'Dhosp': 258, '2VA': 4125884}, {'date': '2021-03-29', 'DDeaths': 189.3, 'Dhosp': 252, '2VA': 3848202}, {'date': '2021-03-28', 'DDeaths': 189.2, 'Dhosp': 272, '2VA': 3679972}, {'date': '2021-03-27', 'DDeaths': 189.2, 'Dhosp': 273, '2VA': 3532378}, {'date': '2021-03-26', 'DDeaths': 189.1, 'Dhosp': 298, '2VA': 3293517}, {'date': '2021-03-25', 'DDeaths': 189.0, 'Dhosp': 340, '2VA': 3009863}, {'date': '2021-03-24', 'DDeaths': 189.0, 'Dhosp': 348, '2VA': 2775481}, {'date': '2021-03-23', 'DDeaths': 188.9, 'Dhosp': 367, '2VA': 2532839}, {'date': '2021-03-22', 'DDeaths': 188.8, 'Dhosp': 361, '2VA': 2363684}, {'date': '2021-03-21', 'DDeaths': 188.7, 'Dhosp': 358, '2VA': 2281384}, {'date': '2021-03-20', 'DDeaths': 188.6, 'Dhosp': 364, '2VA': 2228772}, {'date': '2021-03-19', 'DDeaths': 188.5, 'Dhosp': 380, '2VA': 2136795}, {'date': '2021-03-18', 'DDeaths': 188.4, 'Dhosp': 451, '2VA': 2011070}, {'date': '2021-03-17', 'DDeaths': 188.3, 'Dhosp': 445, '2VA': 1879054}, {'date': '2021-03-16', 'DDeaths': 188.2, 'Dhosp': 442, '2VA': 1759445}, {'date': '2021-03-15', 'DDeaths': 188.1, 'Dhosp': 503, '2VA': 1663646}, {'date': '2021-03-14', 'DDeaths': 188.0, 'Dhosp': 428, '2VA': 1610280}, {'date': '2021-03-13', 'DDeaths': 187.8, 'Dhosp': 462, '2VA': 1584909}, {'date': '2021-03-12', 'DDeaths': 187.7, 'Dhosp': 482, '2VA': 1532754}, {'date': '2021-03-11', 'DDeaths': 187.5, 'Dhosp': 550, '2VA': 1445078}, {'date': '2021-03-10', 'DDeaths': 187.4, 'Dhosp': 567, '2VA': 1351515}, {'date': '2021-03-09', 'DDeaths': 187.2, 'Dhosp': 579, '2VA': 1254353}, {'date': '2021-03-08', 'DDeaths': 187.0, 'Dhosp': 576, '2VA': 1181431}, {'date': '2021-03-07', 'DDeaths': 186.8, 'Dhosp': 536, '2VA': 1142643}, {'date': '2021-03-06', 'DDeaths': 186.6, 'Dhosp': 638, '2VA': 1122402}, {'date': '2021-03-05', 'DDeaths': 186.3, 'Dhosp': 599, '2VA': 1090840}, {'date': '2021-03-04', 'DDeaths': 186.1, 'Dhosp': 704, '2VA': 1034068}, {'date': '2021-03-03', 'DDeaths': 185.9, 'Dhosp': 713, '2VA': 963862}, {'date': '2021-03-02', 'DDeaths': 185.6, 'Dhosp': 834, '2VA': 895412}, {'date': '2021-03-01', 'DDeaths': 185.4, 'Dhosp': 823, '2VA': 844098}, {'date': '2021-02-28', 'DDeaths': 185.0, 'Dhosp': 769, '2VA': 815816}, {'date': '2021-02-27', 'DDeaths': 184.7, 'Dhosp': 742, '2VA': 796132}, {'date': '2021-02-26', 'DDeaths': 184.4, 'Dhosp': 864, '2VA': 768810}, {'date': '2021-02-25', 'DDeaths': 184.0, 'Dhosp': 969, '2VA': 736037}, {'date': '2021-02-24', 'DDeaths': 183.7, 'Dhosp': 1022, '2VA': 700718}, {'date': '2021-02-23', 'DDeaths': 183.2, 'Dhosp': 1121, '2VA': 669105}, {'date': '2021-02-22', 'DDeaths': 182.8, 'Dhosp': 1119, '2VA': 642788}, {'date': '2021-02-21', 'DDeaths': 182.4, 'Dhosp': 1158, '2VA': 624325}, {'date': '2021-02-20', 'DDeaths': 181.9, 'Dhosp': 1092, '2VA': 615148}, {'date': '2021-02-19', 'DDeaths': 181.4, 'Dhosp': 1273, '2VA': 604885}, {'date': '2021-02-18', 'DDeaths': 180.8, 'Dhosp': 1339, '2VA': 589591}, {'date': '2021-02-17', 'DDeaths': 180.2, 'Dhosp': 1412, '2VA': 573724}, {'date': '2021-02-16', 'DDeaths': 179.6, 'Dhosp': 1495, '2VA': 558577}, {'date': '2021-02-15', 'DDeaths': 178.9, 'Dhosp': 1504, '2VA': 546165}, {'date': '2021-02-14', 'DDeaths': 178.1, 'Dhosp': 1535, '2VA': 539630}, {'date': '2021-02-13', 'DDeaths': 177.4, 'Dhosp': 1426, '2VA': 537715}, {'date': '2021-02-12', 'DDeaths': 176.7, 'Dhosp': 1509, '2VA': 534869}, {'date': '2021-02-11', 'DDeaths': 175.9, 'Dhosp': 1680, '2VA': 530094}, {'date': '2021-02-10', 'DDeaths': 175.0, 'Dhosp': 1725, '2VA': 524447}, {'date': '2021-02-09', 'DDeaths': 174.1, 'Dhosp': 1755, '2VA': 519553}, {'date': '2021-02-08', 'DDeaths': 173.2, 'Dhosp': 1921, '2VA': 516392}, {'date': '2021-02-07', 'DDeaths': 172.2, 'Dhosp': 1851, '2VA': 512581}, {'date': '2021-02-06', 'DDeaths': 171.3, 'Dhosp': 1894, '2VA': 511719}, {'date': '2021-02-05', 'DDeaths': 170.2, 'Dhosp': 2006, '2VA': 510057}, {'date': '2021-02-04', 'DDeaths': 169.1, 'Dhosp': 2142, '2VA': 505993}, {'date': '2021-02-03', 'DDeaths': 168.0, 'Dhosp': 2360, '2VA': 501957}, {'date': '2021-02-02', 'DDeaths': 166.8, 'Dhosp': 2484, '2VA': 498962}, {'date': '2021-02-01', 'DDeaths': 165.5, 'Dhosp': 2602, '2VA': 496796}, {'date': '2021-01-31', 'DDeaths': 164.2, 'Dhosp': 2409, '2VA': 494209}, {'date': '2021-01-30', 'DDeaths': 162.8, 'Dhosp': 2470, '2VA': 491053}, {'date': '2021-01-29', 'DDeaths': 161.5, 'Dhosp': 2687, '2VA': 480432}, {'date': '2021-01-28', 'DDeaths': 159.9, 'Dhosp': 3046, '2VA': 478254}, {'date': '2021-01-27', 'DDeaths': 158.2, 'Dhosp': 3060, '2VA': 476485}, {'date': '2021-01-26', 'DDeaths': 156.6, 'Dhosp': 3151, '2VA': 474156}, {'date': '2021-01-25', 'DDeaths': 155.0, 'Dhosp': 2931, '2VA': 472446}, {'date': '2021-01-24', 'DDeaths': 153.3, 'Dhosp': 3112, '2VA': 470478}, {'date': '2021-01-23', 'DDeaths': 151.5, 'Dhosp': 3117, '2VA': 469660}, {'date': '2021-01-22', 'DDeaths': 149.8, 'Dhosp': 3393, '2VA': 468617}, {'date': '2021-01-21', 'DDeaths': 148.0, 'Dhosp': 3636, '2VA': 466796}, {'date': '2021-01-20', 'DDeaths': 146.1, 'Dhosp': 4051, '2VA': 464036}, {'date': '2021-01-19', 'DDeaths': 144.2, 'Dhosp': 4161, '2VA': 460625}, {'date': '2021-01-18', 'DDeaths': 142.2, 'Dhosp': 4065, '2VA': 456866}, {'date': '2021-01-17', 'DDeaths': 140.2, 'Dhosp': 3750, '2VA': 452301}, {'date': '2021-01-16', 'DDeaths': 138.3, 'Dhosp': 3941, '2VA': 450062}, {'date': '2021-01-15', 'DDeaths': 136.4, 'Dhosp': 3686, '2VA': 447442}, {'date': '2021-01-14', 'DDeaths': 134.6, 'Dhosp': 4102, '2VA': 443234}, {'date': '2021-01-13', 'DDeaths': 132.7, 'Dhosp': 4224, '2VA': 437977}, {'date': '2021-01-12', 'DDeaths': 130.9, 'Dhosp': 4583, '2VA': 428232}, {'date': '2021-01-11', 'DDeaths': 129.1, 'Dhosp': 4309, '2VA': 412167}, {'date': '2021-01-10', 'DDeaths': 127.4, 'Dhosp': 3937, '2VA': 391399}, {'date': '2021-01-09', 'DDeaths': 125.8, 'Dhosp': 4128, '2VA': None}, {'date': '2021-01-08', 'DDeaths': 124.3, 'Dhosp': 3999, '2VA': None}, {'date': '2021-01-07', 'DDeaths': 122.8, 'Dhosp': 4295, '2VA': None}, {'date': '2021-01-06', 'DDeaths': 121.3, 'Dhosp': 4392, '2VA': None}, {'date': '2021-01-05', 'DDeaths': 119.9, 'Dhosp': 4118, '2VA': None}, {'date': '2021-01-04', 'DDeaths': 118.6, 'Dhosp': 3936, '2VA': None}, {'date': '2021-01-03', 'DDeaths': 117.3, 'Dhosp': 3649, '2VA': None}, {'date': '2021-01-02', 'DDeaths': 116.2, 'Dhosp': 3441, '2VA': None}, {'date': '2021-01-01', 'DDeaths': 115.1, 'Dhosp': 3368, '2VA': None}, {'date': '2020-12-31', 'DDeaths': 114.0, 'Dhosp': 2921, '2VA': None}, {'date': '2020-12-30', 'DDeaths': 112.8, 'Dhosp': 3292, '2VA': None}, {'date': '2020-12-29', 'DDeaths': 111.8, 'Dhosp': 3252, '2VA': None}, {'date': '2020-12-28', 'DDeaths': 110.8, 'Dhosp': 3134, '2VA': None}, {'date': '2020-12-27', 'DDeaths': 109.8, 'Dhosp': 2871, '2VA': None}, {'date': '2020-12-26', 'DDeaths': 108.8, 'Dhosp': 2530, '2VA': None}, {'date': '2020-12-25', 'DDeaths': 107.8, 'Dhosp': 2181, '2VA': None}, {'date': '2020-12-24', 'DDeaths': 106.9, 'Dhosp': 2082, '2VA': None}, {'date': '2020-12-23', 'DDeaths': 106.0, 'Dhosp': 2279, '2VA': None}, {'date': '2020-12-22', 'DDeaths': 105.2, 'Dhosp': 2481, '2VA': None}, {'date': '2020-12-21', 'DDeaths': 104.4, 'Dhosp': 2370, '2VA': None}, {'date': '2020-12-20', 'DDeaths': 103.5, 'Dhosp': 2170, '2VA': None}, {'date': '2020-12-19', 'DDeaths': 102.8, 'Dhosp': 2045, '2VA': None}, {'date': '2020-12-18', 'DDeaths': 102.0, 'Dhosp': 1921, '2VA': None}, {'date': '2020-12-17', 'DDeaths': 101.3, 'Dhosp': 2144, '2VA': None}, {'date': '2020-12-16', 'DDeaths': 100.5, 'Dhosp': 2082, '2VA': None}, {'date': '2020-12-15', 'DDeaths': 99.8, 'Dhosp': 1958, '2VA': None}, {'date': '2020-12-14', 'DDeaths': 99.1, 'Dhosp': 1956, '2VA': None}, {'date': '2020-12-13', 'DDeaths': 98.4, 'Dhosp': 1754, '2VA': None}, {'date': '2020-12-12', 'DDeaths': 97.8, 'Dhosp': 1799, '2VA': None}, {'date': '2020-12-11', 'DDeaths': 97.1, 'Dhosp': 1688, '2VA': None}, {'date': '2020-12-10', 'DDeaths': 96.5, 'Dhosp': 1754, '2VA': None}, {'date': '2020-12-09', 'DDeaths': 95.8, 'Dhosp': 1757, '2VA': None}, {'date': '2020-12-08', 'DDeaths': 95.2, 'Dhosp': 1783, '2VA': None}, {'date': '2020-12-07', 'DDeaths': 94.5, 'Dhosp': 1662, '2VA': None}, {'date': '2020-12-06', 'DDeaths': 93.9, 'Dhosp': 1471, '2VA': None}, {'date': '2020-12-05', 'DDeaths': 93.3, 'Dhosp': 1378, '2VA': None}, {'date': '2020-12-04', 'DDeaths': 92.7, 'Dhosp': 1432, '2VA': None}, {'date': '2020-12-03', 'DDeaths': 92.0, 'Dhosp': 1502, '2VA': None}, {'date': '2020-12-02', 'DDeaths': 91.2, 'Dhosp': 1486, '2VA': None}, {'date': '2020-12-01', 'DDeaths': 90.7, 'Dhosp': 1493, '2VA': None}, {'date': '2020-11-30', 'DDeaths': 90.1, 'Dhosp': 1406, '2VA': None}, {'date': '2020-11-29', 'DDeaths': 89.4, 'Dhosp': 1389, '2VA': None}, {'date': '2020-11-28', 'DDeaths': 88.8, 'Dhosp': 1220, '2VA': None}, {'date': '2020-11-27', 'DDeaths': 88.1, 'Dhosp': 1280, '2VA': None}, {'date': '2020-11-26', 'DDeaths': 87.4, 'Dhosp': 1426, '2VA': None}, {'date': '2020-11-25', 'DDeaths': 86.8, 'Dhosp': 1614, '2VA': None}, {'date': '2020-11-24', 'DDeaths': 86.1, 'Dhosp': 1499, '2VA': None}, {'date': '2020-11-23', 'DDeaths': 85.4, 'Dhosp': 1588, '2VA': None}, {'date': '2020-11-22', 'DDeaths': 84.7, 'Dhosp': 1492, '2VA': None}, {'date': '2020-11-21', 'DDeaths': 84.0, 'Dhosp': 1461, '2VA': None}, {'date': '2020-11-20', 'DDeaths': 83.3, 'Dhosp': 1551, '2VA': None}, {'date': '2020-11-19', 'DDeaths': 82.6, 'Dhosp': 1687, '2VA': None}, {'date': '2020-11-18', 'DDeaths': 81.9, 'Dhosp': 1786, '2VA': None}, {'date': '2020-11-17', 'DDeaths': 81.2, 'Dhosp': 1718, '2VA': None}, {'date': '2020-11-16', 'DDeaths': 80.5, 'Dhosp': 1771, '2VA': None}, {'date': '2020-11-15', 'DDeaths': 79.9, 'Dhosp': 1675, '2VA': None}, {'date': '2020-11-14', 'DDeaths': 79.2, 'Dhosp': 1617, '2VA': None}, {'date': '2020-11-13', 'DDeaths': 78.6, 'Dhosp': 1651, '2VA': None}, {'date': '2020-11-12', 'DDeaths': 77.9, 'Dhosp': 1916, '2VA': None}, {'date': '2020-11-11', 'DDeaths': 77.3, 'Dhosp': 1972, '2VA': None}, {'date': '2020-11-10', 'DDeaths': 76.7, 'Dhosp': 1856, '2VA': None}, {'date': '2020-11-09', 'DDeaths': 76.1, 'Dhosp': 1768, '2VA': None}, {'date': '2020-11-08', 'DDeaths': 75.4, 'Dhosp': 1692, '2VA': None}, {'date': '2020-11-07', 'DDeaths': 74.8, 'Dhosp': 1560, '2VA': None}, {'date': '2020-11-06', 'DDeaths': 74.2, 'Dhosp': 1418, '2VA': None}, {'date': '2020-11-05', 'DDeaths': 73.6, 'Dhosp': 1591, '2VA': None}, {'date': '2020-11-04', 'DDeaths': 73.1, 'Dhosp': 1688, '2VA': None}, {'date': '2020-11-03', 'DDeaths': 72.6, 'Dhosp': 1527, '2VA': None}, {'date': '2020-11-02', 'DDeaths': 72.0, 'Dhosp': 1574, '2VA': None}, {'date': '2020-11-01', 'DDeaths': 71.5, 'Dhosp': 1498, '2VA': None}, {'date': '2020-10-31', 'DDeaths': 71.0, 'Dhosp': 1461, '2VA': None}, {'date': '2020-10-30', 'DDeaths': 70.5, 'Dhosp': 1385, '2VA': None}, {'date': '2020-10-29', 'DDeaths': 70.0, 'Dhosp': 1592, '2VA': None}, {'date': '2020-10-28', 'DDeaths': 69.5, 'Dhosp': 1494, '2VA': None}, {'date': '2020-10-27', 'DDeaths': 69.1, 'Dhosp': 1499, '2VA': None}, {'date': '2020-10-26', 'DDeaths': 68.7, 'Dhosp': 1541, '2VA': None}, {'date': '2020-10-25', 'DDeaths': 68.3, 'Dhosp': 1424, '2VA': None}, {'date': '2020-10-24', 'DDeaths': 67.9, 'Dhosp': 1262, '2VA': None}, {'date': '2020-10-23', 'DDeaths': 67.6, 'Dhosp': 1299, '2VA': None}, {'date': '2020-10-22', 'DDeaths': 67.3, 'Dhosp': 1285, '2VA': None}, {'date': '2020-10-21', 'DDeaths': 66.9, 'Dhosp': 1264, '2VA': None}, {'date': '2020-10-20', 'DDeaths': 66.6, 'Dhosp': 1193, '2VA': None}, {'date': '2020-10-19', 'DDeaths': 66.3, 'Dhosp': 1108, '2VA': None}, {'date': '2020-10-18', 'DDeaths': 66.0, 'Dhosp': 1091, '2VA': None}, {'date': '2020-10-17', 'DDeaths': 65.8, 'Dhosp': 1032, '2VA': None}, {'date': '2020-10-16', 'DDeaths': 65.5, 'Dhosp': 925, '2VA': None}, {'date': '2020-10-15', 'DDeaths': 65.3, 'Dhosp': 1047, '2VA': None}, {'date': '2020-10-14', 'DDeaths': 65.1, 'Dhosp': 988, '2VA': None}, {'date': '2020-10-13', 'DDeaths': 64.9, 'Dhosp': 1031, '2VA': None}, {'date': '2020-10-12', 'DDeaths': 64.7, 'Dhosp': 889, '2VA': None}, {'date': '2020-10-11', 'DDeaths': 64.6, 'Dhosp': 824, '2VA': None}, {'date': '2020-10-10', 'DDeaths': 64.4, 'Dhosp': 724, '2VA': None}, {'date': '2020-10-09', 'DDeaths': 64.2, 'Dhosp': 708, '2VA': None}, {'date': '2020-10-08', 'DDeaths': 64.1, 'Dhosp': 714, '2VA': None}, {'date': '2020-10-07', 'DDeaths': 64.0, 'Dhosp': 694, '2VA': None}, {'date': '2020-10-06', 'DDeaths': 63.8, 'Dhosp': 724, '2VA': None}, {'date': '2020-10-05', 'DDeaths': 63.7, 'Dhosp': 630, '2VA': None}, {'date': '2020-10-04', 'DDeaths': 63.6, 'Dhosp': 632, '2VA': None}, {'date': '2020-10-03', 'DDeaths': 63.5, 'Dhosp': 533, '2VA': None}, {'date': '2020-10-02', 'DDeaths': 63.4, 'Dhosp': 529, '2VA': None}, {'date': '2020-10-01', 'DDeaths': 63.3, 'Dhosp': 529, '2VA': None}, {'date': '2020-09-30', 'DDeaths': 63.2, 'Dhosp': 452, '2VA': None}, {'date': '2020-09-29', 'DDeaths': 63.1, 'Dhosp': 442, '2VA': None}, {'date': '2020-09-28', 'DDeaths': 63.0, 'Dhosp': 445, '2VA': None}, {'date': '2020-09-27', 'DDeaths': 63.0, 'Dhosp': 343, '2VA': None}, {'date': '2020-09-26', 'DDeaths': 62.9, 'Dhosp': 352, '2VA': None}, {'date': '2020-09-25', 'DDeaths': 62.8, 'Dhosp': 382, '2VA': None}, {'date': '2020-09-24', 'DDeaths': 62.8, 'Dhosp': 425, '2VA': None}, {'date': '2020-09-23', 'DDeaths': 62.7, 'Dhosp': 424, '2VA': None}, {'date': '2020-09-22', 'DDeaths': 62.7, 'Dhosp': 352, '2VA': None}, {'date': '2020-09-21', 'DDeaths': 62.6, 'Dhosp': 372, '2VA': None}, {'date': '2020-09-20', 'DDeaths': 62.6, 'Dhosp': 289, '2VA': None}, {'date': '2020-09-19', 'DDeaths': 62.5, 'Dhosp': 261, '2VA': None}, {'date': '2020-09-18', 'DDeaths': 62.5, 'Dhosp': 263, '2VA': None}, {'date': '2020-09-17', 'DDeaths': 62.4, 'Dhosp': 265, '2VA': None}, {'date': '2020-09-16', 'DDeaths': 62.4, 'Dhosp': 285, '2VA': None}, {'date': '2020-09-15', 'DDeaths': 62.4, 'Dhosp': 271, '2VA': None}, {'date': '2020-09-14', 'DDeaths': 62.3, 'Dhosp': 258, '2VA': None}, {'date': '2020-09-13', 'DDeaths': 62.3, 'Dhosp': 226, '2VA': None}, {'date': '2020-09-12', 'DDeaths': 62.3, 'Dhosp': 218, '2VA': None}, {'date': '2020-09-11', 'DDeaths': 62.3, 'Dhosp': 231, '2VA': None}, {'date': '2020-09-10', 'DDeaths': 62.2, 'Dhosp': 219, '2VA': None}, {'date': '2020-09-09', 'DDeaths': 62.2, 'Dhosp': 203, '2VA': None}, {'date': '2020-09-08', 'DDeaths': 62.2, 'Dhosp': 186, '2VA': None}, {'date': '2020-09-07', 'DDeaths': 62.2, 'Dhosp': 146, '2VA': None}, {'date': '2020-09-06', 'DDeaths': 62.2, 'Dhosp': 139, '2VA': None}, {'date': '2020-09-05', 'DDeaths': 62.2, 'Dhosp': 130, '2VA': None}, {'date': '2020-09-04', 'DDeaths': 62.1, 'Dhosp': 155, '2VA': None}, {'date': '2020-09-03', 'DDeaths': 62.1, 'Dhosp': 146, '2VA': None}, {'date': '2020-09-02', 'DDeaths': 62.1, 'Dhosp': 147, '2VA': None}, {'date': '2020-09-01', 'DDeaths': 62.1, 'Dhosp': 134, '2VA': None}, {'date': '2020-08-31', 'DDeaths': 62.1, 'Dhosp': 91, '2VA': None}, {'date': '2020-08-30', 'DDeaths': 62.1, 'Dhosp': 78, '2VA': None}, {'date': '2020-08-29', 'DDeaths': 62.1, 'Dhosp': 110, '2VA': None}, {'date': '2020-08-28', 'DDeaths': 62.1, 'Dhosp': 137, '2VA': None}, {'date': '2020-08-27', 'DDeaths': 62.0, 'Dhosp': 152, '2VA': None}, {'date': '2020-08-26', 'DDeaths': 62.0, 'Dhosp': 133, '2VA': None}, {'date': '2020-08-25', 'DDeaths': 62.0, 'Dhosp': 122, '2VA': None}, {'date': '2020-08-24', 'DDeaths': 62.0, 'Dhosp': 93, '2VA': None}, {'date': '2020-08-23', 'DDeaths': 62.0, 'Dhosp': 74, '2VA': None}, {'date': '2020-08-22', 'DDeaths': 62.0, 'Dhosp': 72, '2VA': None}, {'date': '2020-08-21', 'DDeaths': 62.0, 'Dhosp': 109, '2VA': None}, {'date': '2020-08-20', 'DDeaths': 61.9, 'Dhosp': 98, '2VA': None}, {'date': '2020-08-19', 'DDeaths': 61.9, 'Dhosp': 117, '2VA': None}, {'date': '2020-08-18', 'DDeaths': 61.9, 'Dhosp': 131, '2VA': None}, {'date': '2020-08-17', 'DDeaths': 61.9, 'Dhosp': 98, '2VA': None}, {'date': '2020-08-16', 'DDeaths': 61.9, 'Dhosp': 80, '2VA': None}, {'date': '2020-08-15', 'DDeaths': 61.9, 'Dhosp': 99, '2VA': None}, {'date': '2020-08-14', 'DDeaths': 61.9, 'Dhosp': 103, '2VA': None}, {'date': '2020-08-13', 'DDeaths': 61.9, 'Dhosp': 130, '2VA': None}, {'date': '2020-08-12', 'DDeaths': 61.9, 'Dhosp': 101, '2VA': None}, {'date': '2020-08-11', 'DDeaths': 61.8, 'Dhosp': 114, '2VA': None}, {'date': '2020-08-10', 'DDeaths': 61.8, 'Dhosp': 88, '2VA': None}, {'date': '2020-08-09', 'DDeaths': 61.8, 'Dhosp': 107, '2VA': None}, {'date': '2020-08-08', 'DDeaths': 61.8, 'Dhosp': 141, '2VA': None}, {'date': '2020-08-07', 'DDeaths': 61.8, 'Dhosp': 116, '2VA': None}, {'date': '2020-08-06', 'DDeaths': 61.8, 'Dhosp': 102, '2VA': None}, {'date': '2020-08-05', 'DDeaths': 61.7, 'Dhosp': 140, '2VA': None}, {'date': '2020-08-04', 'DDeaths': 61.7, 'Dhosp': 128, '2VA': None}, {'date': '2020-08-03', 'DDeaths': 61.7, 'Dhosp': 110, '2VA': None}, {'date': '2020-08-02', 'DDeaths': 61.7, 'Dhosp': 95, '2VA': None}, {'date': '2020-08-01', 'DDeaths': 61.7, 'Dhosp': 127, '2VA': None}, {'date': '2020-07-31', 'DDeaths': 61.7, 'Dhosp': 115, '2VA': None}, {'date': '2020-07-30', 'DDeaths': 61.6, 'Dhosp': 132, '2VA': None}, {'date': '2020-07-29', 'DDeaths': 61.6, 'Dhosp': 133, '2VA': None}, {'date': '2020-07-28', 'DDeaths': 61.6, 'Dhosp': 119, '2VA': None}, {'date': '2020-07-27', 'DDeaths': 61.6, 'Dhosp': 130, '2VA': None}, {'date': '2020-07-26', 'DDeaths': 61.6, 'Dhosp': 109, '2VA': None}, {'date': '2020-07-25', 'DDeaths': 61.5, 'Dhosp': 119, '2VA': None}, {'date': '2020-07-24', 'DDeaths': 61.5, 'Dhosp': 158, '2VA': None}, {'date': '2020-07-23', 'DDeaths': 61.5, 'Dhosp': 200, '2VA': None}, {'date': '2020-07-22', 'DDeaths': 61.5, 'Dhosp': 158, '2VA': None}, {'date': '2020-07-21', 'DDeaths': 61.5, 'Dhosp': 127, '2VA': None}, {'date': '2020-07-20', 'DDeaths': 61.4, 'Dhosp': 131, '2VA': None}, {'date': '2020-07-19', 'DDeaths': 61.4, 'Dhosp': 126, '2VA': None}, {'date': '2020-07-18', 'DDeaths': 61.4, 'Dhosp': 105, '2VA': None}, {'date': '2020-07-17', 'DDeaths': 61.4, 'Dhosp': 144, '2VA': None}, {'date': '2020-07-16', 'DDeaths': 61.3, 'Dhosp': 167, '2VA': None}, {'date': '2020-07-15', 'DDeaths': 61.3, 'Dhosp': 166, '2VA': None}, {'date': '2020-07-14', 'DDeaths': 61.3, 'Dhosp': 187, '2VA': None}, {'date': '2020-07-13', 'DDeaths': 61.3, 'Dhosp': 189, '2VA': None}, {'date': '2020-07-12', 'DDeaths': 61.2, 'Dhosp': 114, '2VA': None}, {'date': '2020-07-11', 'DDeaths': 61.2, 'Dhosp': 177, '2VA': None}, {'date': '2020-07-10', 'DDeaths': 61.2, 'Dhosp': 175, '2VA': None}, {'date': '2020-07-09', 'DDeaths': 61.1, 'Dhosp': 215, '2VA': None}, {'date': '2020-07-08', 'DDeaths': 61.1, 'Dhosp': 208, '2VA': None}, {'date': '2020-07-07', 'DDeaths': 61.1, 'Dhosp': 215, '2VA': None}, {'date': '2020-07-06', 'DDeaths': 61.0, 'Dhosp': 205, '2VA': None}, {'date': '2020-07-05', 'DDeaths': 61.0, 'Dhosp': 196, '2VA': None}, {'date': '2020-07-04', 'DDeaths': 60.9, 'Dhosp': 203, '2VA': None}, {'date': '2020-07-03', 'DDeaths': 60.9, 'Dhosp': 214, '2VA': None}, {'date': '2020-07-02', 'DDeaths': 60.8, 'Dhosp': 217, '2VA': None}, {'date': '2020-07-01', 'DDeaths': 60.8, 'Dhosp': 269, '2VA': None}, {'date': '2020-06-30', 'DDeaths': 60.7, 'Dhosp': 296, '2VA': None}, {'date': '2020-06-29', 'DDeaths': 60.7, 'Dhosp': 221, '2VA': None}, {'date': '2020-06-28', 'DDeaths': 60.6, 'Dhosp': 208, '2VA': None}, {'date': '2020-06-27', 'DDeaths': 60.5, 'Dhosp': 287, '2VA': None}, {'date': '2020-06-26', 'DDeaths': 60.5, 'Dhosp': 339, '2VA': None}, {'date': '2020-06-25', 'DDeaths': 60.4, 'Dhosp': 325, '2VA': None}, {'date': '2020-06-24', 'DDeaths': 60.3, 'Dhosp': 369, '2VA': None}, {'date': '2020-06-23', 'DDeaths': 60.2, 'Dhosp': 363, '2VA': None}, {'date': '2020-06-22', 'DDeaths': 60.1, 'Dhosp': 395, '2VA': None}, {'date': '2020-06-21', 'DDeaths': 60.0, 'Dhosp': 288, '2VA': None}, {'date': '2020-06-20', 'DDeaths': 59.9, 'Dhosp': 257, '2VA': None}, {'date': '2020-06-19', 'DDeaths': 59.8, 'Dhosp': 336, '2VA': None}, {'date': '2020-06-18', 'DDeaths': 59.7, 'Dhosp': 405, '2VA': None}, {'date': '2020-06-17', 'DDeaths': 59.7, 'Dhosp': 433, '2VA': None}, {'date': '2020-06-16', 'DDeaths': 59.6, 'Dhosp': 456, '2VA': None}, {'date': '2020-06-15', 'DDeaths': 59.4, 'Dhosp': 440, '2VA': None}, {'date': '2020-06-14', 'DDeaths': 59.3, 'Dhosp': 364, '2VA': None}, {'date': '2020-06-13', 'DDeaths': 59.2, 'Dhosp': 386, '2VA': None}, {'date': '2020-06-12', 'DDeaths': 59.1, 'Dhosp': 394, '2VA': None}, {'date': '2020-06-11', 'DDeaths': 59.0, 'Dhosp': 446, '2VA': None}, {'date': '2020-06-10', 'DDeaths': 58.9, 'Dhosp': 512, '2VA': None}, {'date': '2020-06-09', 'DDeaths': 58.7, 'Dhosp': 494, '2VA': None}, {'date': '2020-06-08', 'DDeaths': 58.6, 'Dhosp': 412, '2VA': None}, {'date': '2020-06-07', 'DDeaths': 58.4, 'Dhosp': 408, '2VA': None}, {'date': '2020-06-06', 'DDeaths': 58.2, 'Dhosp': 407, '2VA': None}, {'date': '2020-06-05', 'DDeaths': 58.0, 'Dhosp': 475, '2VA': None}, {'date': '2020-06-04', 'DDeaths': 57.9, 'Dhosp': 566, '2VA': None}, {'date': '2020-06-03', 'DDeaths': 57.7, 'Dhosp': 634, '2VA': None}, {'date': '2020-06-02', 'DDeaths': 57.4, 'Dhosp': 668, '2VA': None}, {'date': '2020-06-01', 'DDeaths': 57.2, 'Dhosp': 604, '2VA': None}, {'date': '2020-05-31', 'DDeaths': 57.0, 'Dhosp': 529, '2VA': None}, {'date': '2020-05-30', 'DDeaths': 56.8, 'Dhosp': 568, '2VA': None}, {'date': '2020-05-29', 'DDeaths': 56.5, 'Dhosp': 615, '2VA': None}, {'date': '2020-05-28', 'DDeaths': 56.3, 'Dhosp': 703, '2VA': None}, {'date': '2020-05-27', 'DDeaths': 55.9, 'Dhosp': 712, '2VA': None}, {'date': '2020-05-26', 'DDeaths': 55.7, 'Dhosp': 698, '2VA': None}, {'date': '2020-05-25', 'DDeaths': 55.3, 'Dhosp': 602, '2VA': None}, {'date': '2020-05-24', 'DDeaths': 55.0, 'Dhosp': 587, '2VA': None}, {'date': '2020-05-23', 'DDeaths': 54.7, 'Dhosp': 643, '2VA': None}, {'date': '2020-05-22', 'DDeaths': 54.4, 'Dhosp': 740, '2VA': None}, {'date': '2020-05-21', 'DDeaths': 54.1, 'Dhosp': 841, '2VA': None}, {'date': '2020-05-20', 'DDeaths': 53.7, 'Dhosp': 851, '2VA': None}, {'date': '2020-05-19', 'DDeaths': 53.3, 'Dhosp': 881, '2VA': None}, {'date': '2020-05-18', 'DDeaths': 52.9, 'Dhosp': 850, '2VA': None}, {'date': '2020-05-17', 'DDeaths': 52.5, 'Dhosp': 793, '2VA': None}, {'date': '2020-05-16', 'DDeaths': 52.1, 'Dhosp': 813, '2VA': None}, {'date': '2020-05-15', 'DDeaths': 51.6, 'Dhosp': 871, '2VA': None}, {'date': '2020-05-14', 'DDeaths': 51.1, 'Dhosp': 909, '2VA': None}, {'date': '2020-05-13', 'DDeaths': 50.6, 'Dhosp': 966, '2VA': None}, {'date': '2020-05-12', 'DDeaths': 50.2, 'Dhosp': 983, '2VA': None}, {'date': '2020-05-11', 'DDeaths': 49.7, 'Dhosp': 1029, '2VA': None}, {'date': '2020-05-10', 'DDeaths': 49.2, 'Dhosp': 916, '2VA': None}, {'date': '2020-05-09', 'DDeaths': 48.7, 'Dhosp': 944, '2VA': None}, {'date': '2020-05-08', 'DDeaths': 48.2, 'Dhosp': 910, '2VA': None}, {'date': '2020-05-07', 'DDeaths': 47.6, 'Dhosp': 1166, '2VA': None}, {'date': '2020-05-06', 'DDeaths': 46.9, 'Dhosp': 1206, '2VA': None}, {'date': '2020-05-05', 'DDeaths': 46.2, 'Dhosp': 1146, '2VA': None}, {'date': '2020-05-04', 'DDeaths': 45.5, 'Dhosp': 1249, '2VA': None}, {'date': '2020-05-03', 'DDeaths': 44.8, 'Dhosp': 1188, '2VA': None}, {'date': '2020-05-02', 'DDeaths': 44.1, 'Dhosp': 1181, '2VA': None}, {'date': '2020-05-01', 'DDeaths': 43.4, 'Dhosp': 1263, '2VA': None}, {'date': '2020-04-30', 'DDeaths': 42.5, 'Dhosp': 1442, '2VA': None}, {'date': '2020-04-29', 'DDeaths': 41.7, 'Dhosp': 1488, '2VA': None}, {'date': '2020-04-28', 'DDeaths': 40.9, 'Dhosp': 1518, '2VA': None}, {'date': '2020-04-27', 'DDeaths': 40.0, 'Dhosp': 1538, '2VA': None}, {'date': '2020-04-26', 'DDeaths': 39.1, 'Dhosp': 1355, '2VA': None}, {'date': '2020-04-25', 'DDeaths': 38.2, 'Dhosp': 1253, '2VA': None}, {'date': '2020-04-24', 'DDeaths': 37.2, 'Dhosp': 1525, '2VA': None}, {'date': '2020-04-23', 'DDeaths': 36.2, 'Dhosp': 1514, '2VA': None}, {'date': '2020-04-22', 'DDeaths': 35.2, 'Dhosp': 1529, '2VA': None}, {'date': '2020-04-21', 'DDeaths': 34.1, 'Dhosp': 1712, '2VA': None}, {'date': '2020-04-20', 'DDeaths': 33.0, 'Dhosp': 1734, '2VA': None}, {'date': '2020-04-19', 'DDeaths': 31.8, 'Dhosp': 1657, '2VA': None}, {'date': '2020-04-18', 'DDeaths': 30.7, 'Dhosp': 1629, '2VA': None}, {'date': '2020-04-17', 'DDeaths': 29.5, 'Dhosp': 1967, '2VA': None}, {'date': '2020-04-16', 'DDeaths': 28.3, 'Dhosp': 2011, '2VA': None}, {'date': '2020-04-15', 'DDeaths': 27.0, 'Dhosp': 1880, '2VA': None}, {'date': '2020-04-14', 'DDeaths': 25.7, 'Dhosp': 2088, '2VA': None}, {'date': '2020-04-13', 'DDeaths': 24.4, 'Dhosp': 2162, '2VA': None}, {'date': '2020-04-12', 'DDeaths': 23.1, 'Dhosp': 2066, '2VA': None}, {'date': '2020-04-11', 'DDeaths': 21.7, 'Dhosp': 2163, '2VA': None}, {'date': '2020-04-10', 'DDeaths': 20.3, 'Dhosp': 2463, '2VA': None}, {'date': '2020-04-09', 'DDeaths': 18.8, 'Dhosp': 2629, '2VA': None}, {'date': '2020-04-08', 'DDeaths': 17.4, 'Dhosp': 2967, '2VA': None}, {'date': '2020-04-07', 'DDeaths': 15.7, 'Dhosp': 3150, '2VA': None}, {'date': '2020-04-06', 'DDeaths': 14.3, 'Dhosp': 3046, '2VA': None}, {'date': '2020-04-05', 'DDeaths': 12.9, 'Dhosp': 2916, '2VA': None}, {'date': '2020-04-04', 'DDeaths': 11.6, 'Dhosp': 2922, '2VA': None}, {'date': '2020-04-03', 'DDeaths': 10.2, 'Dhosp': 2930, '2VA': None}, {'date': '2020-04-02', 'DDeaths': 9.0, 'Dhosp': 3286, '2VA': None}, {'date': '2020-04-01', 'DDeaths': 7.8, 'Dhosp': 3567, '2VA': None}, {'date': '2020-03-31', 'DDeaths': 6.6, 'Dhosp': 2832, '2VA': None}, {'date': '2020-03-30', 'DDeaths': 5.6, 'Dhosp': 3192, '2VA': None}, {'date': '2020-03-29', 'DDeaths': 4.7, 'Dhosp': 2489, '2VA': None}, {'date': '2020-03-28', 'DDeaths': 4.0, 'Dhosp': 2192, '2VA': None}, {'date': '2020-03-27', 'DDeaths': 3.3, 'Dhosp': 2229, '2VA': None}, {'date': '2020-03-26', 'DDeaths': 2.7, 'Dhosp': 1929, '2VA': None}, {'date': '2020-03-25', 'DDeaths': 2.2, 'Dhosp': 2085, '2VA': None}, {'date': '2020-03-24', 'DDeaths': 1.8, 'Dhosp': 1718, '2VA': None}, {'date': '2020-03-23', 'DDeaths': 1.4, 'Dhosp': 1274, '2VA': None}, {'date': '2020-03-22', 'DDeaths': 1.1, 'Dhosp': None, '2VA': None}, {'date': '2020-03-21', 'DDeaths': 0.9, 'Dhosp': None, '2VA': None}, {'date': '2020-03-20', 'DDeaths': 0.7, 'Dhosp': None, '2VA': None}, {'date': '2020-03-19', 'DDeaths': 0.5, 'Dhosp': None, '2VA': None}, {'date': '2020-03-18', 'DDeaths': 0.4, 'Dhosp': None, '2VA': None}, {'date': '2020-03-17', 'DDeaths': 0.3, 'Dhosp': None, '2VA': None}, {'date': '2020-03-16', 'DDeaths': 0.2, 'Dhosp': None, '2VA': None}, {'date': '2020-03-15', 'DDeaths': 0.2, 'Dhosp': None, '2VA': None}, {'date': '2020-03-14', 'DDeaths': 0.1, 'Dhosp': None, '2VA': None}, {'date': '2020-03-13', 'DDeaths': 0.1, 'Dhosp': None, '2VA': None}, {'date': '2020-03-12', 'DDeaths': 0.1, 'Dhosp': None, '2VA': None}], 'lastUpdate': '2021-10-26T15:16:12.000000Z', 'length': 593, 'totalPages': 1}\n"
     ]
    }
   ],
   "source": [
    "print(Vaccines)"
   ]
  },
  {
   "cell_type": "code",
   "execution_count": 74,
   "metadata": {},
   "outputs": [],
   "source": [
    "with open(\"Vaccines.json\", \"wt\") as OUTF:\n",
    "    json.dump(Vaccines, OUTF)"
   ]
  },
  {
   "cell_type": "markdown",
   "metadata": {},
   "source": [
    "**(C) 2020 Fabrizio Smeraldi** ([f.smeraldi@qmul.ac.uk](mailto:f.smeraldi@qmul.ac.uk) - [web](http://www.eecs.qmul.ac.uk/~fabri/)), all rights reserved."
   ]
  }
 ],
 "metadata": {
  "kernelspec": {
   "display_name": "Python 3 (ipykernel)",
   "language": "python",
   "name": "python3"
  },
  "language_info": {
   "codemirror_mode": {
    "name": "ipython",
    "version": 3
   },
   "file_extension": ".py",
   "mimetype": "text/x-python",
   "name": "python",
   "nbconvert_exporter": "python",
   "pygments_lexer": "ipython3",
   "version": "3.9.6"
  }
 },
 "nbformat": 4,
 "nbformat_minor": 4
}
